{
 "cells": [
  {
   "cell_type": "code",
   "execution_count": 1,
   "metadata": {},
   "outputs": [
    {
     "name": "stdout",
     "output_type": "stream",
     "text": [
      "Collecting pyttsx3\n",
      "  Downloading https://files.pythonhosted.org/packages/33/9a/de4781245f5ad966646fd276259ef7cfd400ba3cf7d5db7c0d5aab310c20/pyttsx3-2.90-py3-none-any.whl\n",
      "Requirement already satisfied: pywin32; platform_system == \"Windows\" in c:\\programdata\\anaconda3\\lib\\site-packages (from pyttsx3) (223)\n",
      "Requirement already satisfied: comtypes; platform_system == \"Windows\" in c:\\programdata\\anaconda3\\lib\\site-packages (from pyttsx3) (1.1.7)\n",
      "Collecting pypiwin32; platform_system == \"Windows\" (from pyttsx3)\n",
      "  Downloading https://files.pythonhosted.org/packages/d0/1b/2f292bbd742e369a100c91faa0483172cd91a1a422a6692055ac920946c5/pypiwin32-223-py3-none-any.whl\n",
      "Installing collected packages: pypiwin32, pyttsx3\n",
      "Successfully installed pypiwin32-223 pyttsx3-2.90\n"
     ]
    }
   ],
   "source": [
    "# text to sounds version 3\n",
    "!pip install pyttsx3\n",
    "import pyttsx3\n"
   ]
  },
  {
   "cell_type": "code",
   "execution_count": 2,
   "metadata": {},
   "outputs": [],
   "source": [
    "\n",
    "기계누나 = pyttsx3.init()\n",
    "기계누나.runAndWait()\n",
    "기계누나.say('잠시후 좌회전입니다.')"
   ]
  },
  {
   "cell_type": "code",
   "execution_count": 30,
   "metadata": {},
   "outputs": [],
   "source": [
    "# 파파고 API\n",
    "def papago(x):\n",
    "\n",
    "    import requests\n",
    "    import json\n",
    "    x=str(x)\n",
    "    url = 'https://openapi.naver.com/v1/papago/n2mt'\n",
    "\n",
    "    header = {\n",
    "        'Content-Type' : 'application/x-www-form-urlencoded; charset=UTF-8',\n",
    "        'X-Naver-Client-Id': 'TpTETmhB2thTJU7bdVZS',\n",
    "        'X-Naver-Client-Secret': 'hOFzrqfyHG' \n",
    "    }\n",
    "    #꼭 헤더처럼 만들어 주어야 함.\n",
    "    data = {\n",
    "        'source' : 'en',\n",
    "        'target' : 'ko',\n",
    "        'text' : x\n",
    "    }\n",
    "    \n",
    "    response = requests.post(url, headers=header, data=data)\n",
    "    trans = json.loads(response.text)\n",
    "    \n",
    "    \n",
    "    return trans['message']['result']['translatedText']\n",
    "    "
   ]
  },
  {
   "cell_type": "code",
   "execution_count": 31,
   "metadata": {},
   "outputs": [
    {
     "data": {
      "text/plain": [
       "'만나서 반가워'"
      ]
     },
     "execution_count": 31,
     "metadata": {},
     "output_type": "execute_result"
    }
   ],
   "source": [
    "papago('nice to meet you')"
   ]
  },
  {
   "cell_type": "code",
   "execution_count": 32,
   "metadata": {},
   "outputs": [
    {
     "data": {
      "text/plain": [
       "'요구 사항이 이미 충족됨: /Library/Frameworks/Python.framework/Version/3.7/lib/python3.7/site-package의 유튜브-dl'"
      ]
     },
     "execution_count": 32,
     "metadata": {},
     "output_type": "execute_result"
    }
   ],
   "source": [
    "# API를 함수로 만들어서 오류메세지 넣은결과\n",
    "# 요걸 만들어볼겁니다.\n",
    "papago('Requirement already satisfied: youtube-dl in /Library/Frameworks/Python.framework/Versions/3.7/lib/python3.7/site-packages')"
   ]
  },
  {
   "cell_type": "code",
   "execution_count": 5,
   "metadata": {},
   "outputs": [
    {
     "name": "stdout",
     "output_type": "stream",
     "text": [
      "Collecting youtube-dl\n",
      "  Downloading https://files.pythonhosted.org/packages/a4/5f/db1fb30596fbfabd3500e741cd9c73d0cb1d25387582fd21289bed05a9c2/youtube_dl-2020.6.16.1-py2.py3-none-any.whl (1.8MB)\n",
      "Installing collected packages: youtube-dl\n",
      "Successfully installed youtube-dl-2020.6.16.1\n"
     ]
    }
   ],
   "source": [
    "# 유튭다운로드\n",
    "# 코드를 보시고 돌아가는지 확인 정도만 \n",
    "!pip install youtube-dl"
   ]
  },
  {
   "cell_type": "code",
   "execution_count": 6,
   "metadata": {},
   "outputs": [],
   "source": [
    "# python subprocess는 스크립트 파일을 파이썬 내부에서 실행가능하도록\n",
    "from subprocess import call, check_output"
   ]
  },
  {
   "cell_type": "code",
   "execution_count": 7,
   "metadata": {},
   "outputs": [
    {
     "name": "stdout",
     "output_type": "stream",
     "text": [
      "다운로드 완료\n"
     ]
    }
   ],
   "source": [
    "# 유튜브 다운받기\n",
    "url = \"https://youtu.be/TgOu00Mf3kI\"\n",
    "name = '아이유-에잇'\n",
    "call(['youtube-dl', '--output', name + '.%(ext)s', url])\n",
    "print('다운로드 완료')"
   ]
  },
  {
   "cell_type": "code",
   "execution_count": 8,
   "metadata": {},
   "outputs": [
    {
     "name": "stdout",
     "output_type": "stream",
     "text": [
      "[youtube] TgOu00Mf3kI: Downloading webpage\n",
      "[info] Available formats for TgOu00Mf3kI:\n",
      "format code  extension  resolution note\n",
      "249          webm       audio only tiny   60k , opus @ 50k (48000Hz), 1.36MiB\n",
      "250          webm       audio only tiny   77k , opus @ 70k (48000Hz), 1.79MiB\n",
      "140          m4a        audio only tiny  130k , m4a_dash container, mp4a.40.2@128k (44100Hz), 3.42MiB\n",
      "251          webm       audio only tiny  143k , opus @160k (48000Hz), 3.46MiB\n",
      "394          mp4        256x144    144p   72k , av01.0.00M.08, 24fps, video only, 1.54MiB\n",
      "278          webm       256x144    144p   88k , webm container, vp9, 24fps, video only, 1.85MiB\n",
      "160          mp4        256x144    144p  110k , avc1.4d400c, 24fps, video only, 1018.41KiB\n",
      "395          mp4        426x240    240p  146k , av01.0.00M.08, 24fps, video only, 1.97MiB\n",
      "242          webm       426x240    240p  187k , vp9, 24fps, video only, 2.27MiB\n",
      "133          mp4        426x240    240p  206k , avc1.4d4015, 24fps, video only, 1.97MiB\n",
      "396          mp4        640x360    360p  294k , av01.0.01M.08, 24fps, video only, 3.48MiB\n",
      "134          mp4        640x360    360p  335k , avc1.4d401e, 24fps, video only, 3.61MiB\n",
      "243          webm       640x360    360p  396k , vp9, 24fps, video only, 4.60MiB\n",
      "397          mp4        854x480    480p  492k , av01.0.04M.08, 24fps, video only, 5.87MiB\n",
      "135          mp4        854x480    480p  522k , avc1.4d401e, 24fps, video only, 6.20MiB\n",
      "244          webm       854x480    480p  703k , vp9, 24fps, video only, 7.53MiB\n",
      "398          mp4        1280x720   720p  888k , av01.0.05M.08, 24fps, video only, 10.97MiB\n",
      "136          mp4        1280x720   720p 1044k , avc1.4d401f, 24fps, video only, 10.18MiB\n",
      "247          webm       1280x720   720p 1270k , vp9, 24fps, video only, 13.38MiB\n",
      "399          mp4        1920x1080  1080p 1477k , av01.0.08M.08, 24fps, video only, 18.75MiB\n",
      "248          webm       1920x1080  1080p 2185k , vp9, 24fps, video only, 23.16MiB\n",
      "137          mp4        1920x1080  1080p 2514k , avc1.640028, 24fps, video only, 29.24MiB\n",
      "271          webm       2560x1440  1440p 5212k , vp9, 24fps, video only, 56.97MiB\n",
      "313          webm       3840x2160  2160p 15667k , vp9, 24fps, video only, 198.16MiB\n",
      "18           mp4        640x360    360p  394k , avc1.42001E, 24fps, mp4a.40.2@ 96k (44100Hz), 10.43MiB (best)\n",
      "\n"
     ]
    }
   ],
   "source": [
    "# 옵션확인\n",
    "output = check_output(['youtube-dl', '-F', url])\n",
    "print(output.decode('utf-8'))"
   ]
  },
  {
   "cell_type": "code",
   "execution_count": null,
   "metadata": {},
   "outputs": [],
   "source": []
  }
 ],
 "metadata": {
  "kernelspec": {
   "display_name": "Python 3",
   "language": "python",
   "name": "python3"
  },
  "language_info": {
   "codemirror_mode": {
    "name": "ipython",
    "version": 3
   },
   "file_extension": ".py",
   "mimetype": "text/x-python",
   "name": "python",
   "nbconvert_exporter": "python",
   "pygments_lexer": "ipython3",
   "version": "3.7.3"
  }
 },
 "nbformat": 4,
 "nbformat_minor": 2
}
