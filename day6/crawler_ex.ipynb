{
 "cells": [
  {
   "cell_type": "code",
   "execution_count": 1,
   "metadata": {},
   "outputs": [],
   "source": [
    "import pandas as pd\n",
    "import numpy as np\n",
    "import matplotlib.pyplot as plt\n",
    "import seaborn as sns\n",
    "import requests\n",
    "import json\n",
    "import time\n",
    "from pandas.io.json import json_normalize\n",
    "from bs4 import BeautifulSoup"
   ]
  },
  {
   "cell_type": "markdown",
   "metadata": {},
   "source": [
    "# 네이버 영화 클레멘타인 평점크롤링\n",
    "\n",
    "네이버 영화 클레멘타인에 유저들이 작성한 평점 댓글을 크롤링 해보겠습니다.\n",
    "\n",
    "아래 굵은 글씨로 기술된 테스크들을 완수하세요."
   ]
  },
  {
   "cell_type": "markdown",
   "metadata": {},
   "source": [
    "**네이버 영화 클레멘타인 URL**\n",
    "\n",
    "https://movie.naver.com/movie/bi/mi/point.nhn?code=37886"
   ]
  },
  {
   "cell_type": "markdown",
   "metadata": {},
   "source": [
    "**1. 요청할 url 정의하기**\n",
    "\n",
    "위 URL 페이지를 확인해보면 댓글평점 페이지가 넘어가도 URL이 변하지 않는 것을 확인 할 수 있습니다.\n",
    "\n",
    "동적페이지 크롤링을 위해 개발자 도구로 숨겨진 URL을 확인 해봅시다.\n",
    "\n",
    "우선 1페이지 크롤링을 해보겠습니다."
   ]
  },
  {
   "cell_type": "code",
   "execution_count": 4,
   "metadata": {},
   "outputs": [],
   "source": [
    "# CODE\n",
    "url = 'https://movie.naver.com/movie/bi/mi/pointWriteFormList.nhn?code=37886&type=after&isActualPointWriteExecute=false&isMileageSubscriptionAlready=false&isMileageSubscriptionReject=false'"
   ]
  },
  {
   "cell_type": "code",
   "execution_count": 2,
   "metadata": {},
   "outputs": [],
   "source": [
    "url = ''"
   ]
  },
  {
   "cell_type": "code",
   "execution_count": 7,
   "metadata": {},
   "outputs": [],
   "source": [
    "for item in range(1,2):\n",
    "    header={\n",
    "        'user-agent': 'Mozilla/5.0 (Windows NT 10.0; Win64; x64) AppleWebKit/537.36 (KHTML, like Gecko) Chrome/83.0.4103.116 Safari/537.36',\n",
    "        'referer': f'https://movie.naver.com/movie/bi/mi/pointWriteFormList.nhn?code=37886&type=after&isActualPointWriteExecute=false&isMileageSubscriptionAlready=false&isMileageSubscriptionReject=false&page={item}'\n",
    "    }"
   ]
  },
  {
   "cell_type": "markdown",
   "metadata": {},
   "source": [
    "**2. response 변수명으로 requests로 url 요청한 데이터의 text를 저장합니다.**"
   ]
  },
  {
   "cell_type": "code",
   "execution_count": 8,
   "metadata": {},
   "outputs": [],
   "source": [
    "# CODE\n",
    "response = requests.get(url, headers=header)"
   ]
  },
  {
   "cell_type": "code",
   "execution_count": 3,
   "metadata": {},
   "outputs": [],
   "source": []
  },
  {
   "cell_type": "markdown",
   "metadata": {},
   "source": [
    "**3. response 결과값 앞 1000글자 확인 및 어떤형태의 데이터인지 파악하기**"
   ]
  },
  {
   "cell_type": "code",
   "execution_count": 17,
   "metadata": {},
   "outputs": [],
   "source": [
    "# CODE\n",
    "html = BeautifulSoup(response.text, \"html.parser\")\n",
    "collection = html.select('div.score_reple')\n"
   ]
  },
  {
   "cell_type": "code",
   "execution_count": null,
   "metadata": {},
   "outputs": [],
   "source": []
  },
  {
   "cell_type": "code",
   "execution_count": 19,
   "metadata": {},
   "outputs": [
    {
     "data": {
      "text/plain": [
       "<Response [200]>"
      ]
     },
     "execution_count": 19,
     "metadata": {},
     "output_type": "execute_result"
    }
   ],
   "source": [
    "response"
   ]
  },
  {
   "cell_type": "code",
   "execution_count": 7,
   "metadata": {},
   "outputs": [
    {
     "data": {
      "text/plain": [
       "'\\r\\n\\r\\n\\r\\n\\r\\n<!DOCTYPE html>\\r\\n<html lang=\"ko\">\\r\\n<head>\\r\\n<meta charset=\"utf-8\">\\r\\n<meta http-equiv=\"X-UA-Compatible\" content=\"IE=edge\">\\r\\n<title>네이버 영화</title>\\r\\n\\n\\n\\n\\t\\n\\t\\n\\t\\n\\t\\n\\t\\t<link rel=\"shortcut icon\" href=\"https://ssl.pstatic.net/static/m/movie/icons/naver_movie_favicon.ico\" type=\"image/x-icon\">\\n\\t\\t\\t\\n\\n\\r\\n\\n<link rel=\"stylesheet\" type=\"text/css\" href=\"/css/common.css?20200629181825\" />\\r\\n\\n<link rel=\"stylesheet\" type=\"text/css\" href=\"/css/movie_tablet.css?20200629181825\" />\\n<link rel=\"stylesheet\" type=\"text/css\" href=\"/css/movie_end.css?20200629181825\" />\\r\\n\\r\\n\\n\\n\\n<script type=\"text/javascript\" src=\"/js/deploy/movie.all.js?20200629181825\"></script>\\n\\n\\n\\r\\n</head>\\r\\n<body>\\r\\n\\t<!-- content -->\\r\\n<input type=\"hidden\" name=\"movieCode\" id=\"movieCode\" value=\"37886\"/>\\r\\n<input type=\"hidden\" name=\"onlyActualPointYn\" id=\"onlyActualPointYn\" value=\"N\"/>\\r\\n<input type=\"hidden\" name=\"includeSpoilerYn\" id=\"includeSpoilerYn\" value=\"N\"/>\\r\\n<input type=\"hidden\" name=\"order\" id=\"order\" value=\"sympathyScore\"/>\\r\\n<input type=\"hidde'"
      ]
     },
     "execution_count": 7,
     "metadata": {},
     "output_type": "execute_result"
    }
   ],
   "source": []
  },
  {
   "cell_type": "markdown",
   "metadata": {},
   "source": [
    "**4. response 결과에 따라 적절한 변환 함수를 사용하여 data라는 변수명에 저장합니다.**"
   ]
  },
  {
   "cell_type": "code",
   "execution_count": 178,
   "metadata": {},
   "outputs": [],
   "source": [
    "# CODE\n",
    "data = BeautifulSoup(response.text, \"html.parser\")"
   ]
  },
  {
   "cell_type": "code",
   "execution_count": 9,
   "metadata": {},
   "outputs": [],
   "source": []
  },
  {
   "cell_type": "markdown",
   "metadata": {},
   "source": [
    "**5. 전설적인 댓글평점 '이 영화를 보고 암이 나았습니다.' 에 selector를 사용하여 접근해봅시다.**"
   ]
  },
  {
   "cell_type": "code",
   "execution_count": 82,
   "metadata": {},
   "outputs": [],
   "source": [
    "# CODE\n",
    "collection = data.select('div.score_reple')"
   ]
  },
  {
   "cell_type": "code",
   "execution_count": 177,
   "metadata": {},
   "outputs": [
    {
     "data": {
      "text/plain": [
       "[<span id=\"_filtered_ment_1\">\n",
       " \t\t\t\t\t\t\t\t\t\t\t\t\t\t\n",
       " \t\t\t\t\t\t\t\t\t\t\t\t\t\t\t\n",
       " \t\t\t\t\t\t\t\t\t\t\t\t\t\t\t\n",
       " \t\t\t\t\t\t\t\t\t\t\t\t\t\t\t\t이것은절대1점이아니다11점을주고싶은 내마음이다 \n",
       " \t\t\t\t\t\t\t\t\t\t\t\t\t\t\t\n",
       " \t\t\t\t\t\t\t\t\t\t\t\t\t\t\n",
       " \t\t\t\t\t\t\t\t\t\t\t\t\t\t\n",
       " \t\t\t\t\t\t\t\t\t\t\t\t\t</span>, [<span id=\"_filtered_ment_0\">\n",
       "  \t\t\t\t\t\t\t\t\t\t\t\t\t\t\n",
       "  \t\t\t\t\t\t\t\t\t\t\t\t\t\t\t\n",
       "  \t\t\t\t\t\t\t\t\t\t\t\t\t\t\t\n",
       "  \t\t\t\t\t\t\t\t\t\t\t\t\t\t\t\t이 영화를 보고 암이 나았습니다. \n",
       "  \t\t\t\t\t\t\t\t\t\t\t\t\t\t\t\n",
       "  \t\t\t\t\t\t\t\t\t\t\t\t\t\t\n",
       "  \t\t\t\t\t\t\t\t\t\t\t\t\t\t\n",
       "  \t\t\t\t\t\t\t\t\t\t\t\t\t</span>], [<span id=\"_filtered_ment_1\">\n",
       "  \t\t\t\t\t\t\t\t\t\t\t\t\t\t\n",
       "  \t\t\t\t\t\t\t\t\t\t\t\t\t\t\t\n",
       "  \t\t\t\t\t\t\t\t\t\t\t\t\t\t\t\n",
       "  \t\t\t\t\t\t\t\t\t\t\t\t\t\t\t\t이것은절대1점이아니다11점을주고싶은 내마음이다 \n",
       "  \t\t\t\t\t\t\t\t\t\t\t\t\t\t\t\n",
       "  \t\t\t\t\t\t\t\t\t\t\t\t\t\t\n",
       "  \t\t\t\t\t\t\t\t\t\t\t\t\t\t\n",
       "  \t\t\t\t\t\t\t\t\t\t\t\t\t</span>], [<span id=\"_filtered_ment_0\">\n",
       "  \t\t\t\t\t\t\t\t\t\t\t\t\t\t\n",
       "  \t\t\t\t\t\t\t\t\t\t\t\t\t\t\t\n",
       "  \t\t\t\t\t\t\t\t\t\t\t\t\t\t\t\n",
       "  \t\t\t\t\t\t\t\t\t\t\t\t\t\t\t\t이 영화를 보고 암이 나았습니다. \n",
       "  \t\t\t\t\t\t\t\t\t\t\t\t\t\t\t\n",
       "  \t\t\t\t\t\t\t\t\t\t\t\t\t\t\n",
       "  \t\t\t\t\t\t\t\t\t\t\t\t\t\t\n",
       "  \t\t\t\t\t\t\t\t\t\t\t\t\t</span>], [<span id=\"_filtered_ment_1\">\n",
       "  \t\t\t\t\t\t\t\t\t\t\t\t\t\t\n",
       "  \t\t\t\t\t\t\t\t\t\t\t\t\t\t\t\n",
       "  \t\t\t\t\t\t\t\t\t\t\t\t\t\t\t\n",
       "  \t\t\t\t\t\t\t\t\t\t\t\t\t\t\t\t이것은절대1점이아니다11점을주고싶은 내마음이다 \n",
       "  \t\t\t\t\t\t\t\t\t\t\t\t\t\t\t\n",
       "  \t\t\t\t\t\t\t\t\t\t\t\t\t\t\n",
       "  \t\t\t\t\t\t\t\t\t\t\t\t\t\t\n",
       "  \t\t\t\t\t\t\t\t\t\t\t\t\t</span>], [<span id=\"_filtered_ment_2\">\n",
       "  \t\t\t\t\t\t\t\t\t\t\t\t\t\t\n",
       "  \t\t\t\t\t\t\t\t\t\t\t\t\t\t\t\n",
       "  \t\t\t\t\t\t\t\t\t\t\t\t\t\t\t\n",
       "  \t\t\t\t\t\t\t\t\t\t\t\t\t\t\t\t모니터도 울고 외장하드도 울고 숨어있던 바이러스도 울었다 \n",
       "  \t\t\t\t\t\t\t\t\t\t\t\t\t\t\t\n",
       "  \t\t\t\t\t\t\t\t\t\t\t\t\t\t\n",
       "  \t\t\t\t\t\t\t\t\t\t\t\t\t\t\n",
       "  \t\t\t\t\t\t\t\t\t\t\t\t\t</span>], [<span id=\"_filtered_ment_3\">\n",
       "  \t\t\t\t\t\t\t\t\t\t\t\t\t\t\n",
       "  \t\t\t\t\t\t\t\t\t\t\t\t\t\t\t\n",
       "  \t\t\t\t\t\t\t\t\t\t\t\t\t\t\t\n",
       "  \t\t\t\t\t\t\t\t\t\t\t\t\t\t\t\t당신이 이 영화를 보지 않았다면  아직 살아있을 이유 하나를 간직하고 있는 것이다. \n",
       "  \t\t\t\t\t\t\t\t\t\t\t\t\t\t\t\n",
       "  \t\t\t\t\t\t\t\t\t\t\t\t\t\t\n",
       "  \t\t\t\t\t\t\t\t\t\t\t\t\t\t\n",
       "  \t\t\t\t\t\t\t\t\t\t\t\t\t</span>], [<span id=\"_filtered_ment_4\">\n",
       "  \t\t\t\t\t\t\t\t\t\t\t\t\t\t\n",
       "  \t\t\t\t\t\t\t\t\t\t\t\t\t\t\t\n",
       "  \t\t\t\t\t\t\t\t\t\t\t\t\t\t\t\n",
       "  \t\t\t\t\t\t\t\t\t\t\t\t\t\t\t\t영화계엔 BC와 AC가 있다. Before Clementain, After Clementain... \n",
       "  \t\t\t\t\t\t\t\t\t\t\t\t\t\t\t\n",
       "  \t\t\t\t\t\t\t\t\t\t\t\t\t\t\n",
       "  \t\t\t\t\t\t\t\t\t\t\t\t\t\t\n",
       "  \t\t\t\t\t\t\t\t\t\t\t\t\t</span>], [<span id=\"_filtered_ment_5\">\n",
       "  \t\t\t\t\t\t\t\t\t\t\t\t\t\t\n",
       "  \t\t\t\t\t\t\t\t\t\t\t\t\t\t\t\n",
       "  \t\t\t\t\t\t\t\t\t\t\t\t\t\t\t\n",
       "  \t\t\t\t\t\t\t\t\t\t\t\t\t\t\t\t남친 집에서 클레멘타인 DVD를 발견했고, 결혼을 결심했습니다. \n",
       "  \t\t\t\t\t\t\t\t\t\t\t\t\t\t\t\n",
       "  \t\t\t\t\t\t\t\t\t\t\t\t\t\t\n",
       "  \t\t\t\t\t\t\t\t\t\t\t\t\t\t\n",
       "  \t\t\t\t\t\t\t\t\t\t\t\t\t</span>], [<span id=\"_filtered_ment_6\">\n",
       "  \t\t\t\t\t\t\t\t\t\t\t\t\t\t\n",
       "  \t\t\t\t\t\t\t\t\t\t\t\t\t\t\t\n",
       "  \t\t\t\t\t\t\t\t\t\t\t\t\t\t\t\n",
       "  \t\t\t\t\t\t\t\t\t\t\t\t\t\t\t\t드디어 보았네요. 나이 40대 중반에 이런 감동을 느낄 수 있음에 스스로도 대견한 생각이 듭니다. 먼 훗날 제 아이들도 이 영화를 보고 저와 같은 감동을 느끼길 바라는 건 그저 바램이겠지요? \n",
       "  \t\t\t\t\t\t\t\t\t\t\t\t\t\t\t\n",
       "  \t\t\t\t\t\t\t\t\t\t\t\t\t\t\n",
       "  \t\t\t\t\t\t\t\t\t\t\t\t\t\t\n",
       "  \t\t\t\t\t\t\t\t\t\t\t\t\t</span>], [<span id=\"_filtered_ment_7\">\n",
       "  \t\t\t\t\t\t\t\t\t\t\t\t\t\t\n",
       "  \t\t\t\t\t\t\t\t\t\t\t\t\t\t\t\n",
       "  \t\t\t\t\t\t\t\t\t\t\t\t\t\t\t\n",
       "  \t\t\t\t\t\t\t\t\t\t\t\t\t\t\t\t평점깍아내리는 낚시글 몇개있는데 제발그만해라 이기적인새끼들아좋은건 나누는거다 \n",
       "  \t\t\t\t\t\t\t\t\t\t\t\t\t\t\t\n",
       "  \t\t\t\t\t\t\t\t\t\t\t\t\t\t\n",
       "  \t\t\t\t\t\t\t\t\t\t\t\t\t\t\n",
       "  \t\t\t\t\t\t\t\t\t\t\t\t\t</span>], [<span id=\"_filtered_ment_8\">\n",
       "  \t\t\t\t\t\t\t\t\t\t\t\t\t\t\n",
       "  \t\t\t\t\t\t\t\t\t\t\t\t\t\t\t\n",
       "  \t\t\t\t\t\t\t\t\t\t\t\t\t\t\t\n",
       "  \t\t\t\t\t\t\t\t\t\t\t\t\t\t\t\t장난으로 쓰지마라... 본인은 2004년에 실제로 극장에서 이 영화를 봤다 \n",
       "  \t\t\t\t\t\t\t\t\t\t\t\t\t\t\t\n",
       "  \t\t\t\t\t\t\t\t\t\t\t\t\t\t\n",
       "  \t\t\t\t\t\t\t\t\t\t\t\t\t\t\n",
       "  \t\t\t\t\t\t\t\t\t\t\t\t\t</span>], [<span id=\"_filtered_ment_9\">\n",
       "  <span class=\"_unfold_ment\" id=\"_unfold_ment9\">\n",
       "  <a data-src=\"프로포즈 선물로 다이아반지 대신 클레멘타인 파일을 USB에담아 목걸이로 만들어 그녀 목에 걸어주었다. 눈물로 대신 대답한 그녀...그리고 2세이름은 그녀의 의견을 반영해 이동준과 스티븐시갈의 이름을 딴 이동갈로 지을 예정이다. \" href=\"javascript:void(0);\" onclick=\"unfoldPointMent(this);\">\n",
       "  \t\t\t\t\t\t\t\t\t\t\t\t\t\t\t\t\t\t프로포즈 선물로 다이아반지 대신 클레멘타인 파일을 USB에담아 목걸이로 만들어 그녀 목에 걸어주었다. 눈물로 대신 대답한 그녀...그리고 2세이름은 그녀의 의견을 반영해 이동준과 스티븐시갈의 이름을 딴 이동갈로 지을...\n",
       "  \t\t\t\t\t\t\t\t\t\t\t\t\t\t\t\t\t</a>\n",
       "  </span>\n",
       "  </span>], [<span id=\"_filtered_ment_0\">\n",
       "  \t\t\t\t\t\t\t\t\t\t\t\t\t\t\n",
       "  \t\t\t\t\t\t\t\t\t\t\t\t\t\t\t\n",
       "  \t\t\t\t\t\t\t\t\t\t\t\t\t\t\t\n",
       "  \t\t\t\t\t\t\t\t\t\t\t\t\t\t\t\t이 영화를 보고 암이 나았습니다. \n",
       "  \t\t\t\t\t\t\t\t\t\t\t\t\t\t\t\n",
       "  \t\t\t\t\t\t\t\t\t\t\t\t\t\t\n",
       "  \t\t\t\t\t\t\t\t\t\t\t\t\t\t\n",
       "  \t\t\t\t\t\t\t\t\t\t\t\t\t</span>], [<span id=\"_filtered_ment_1\">\n",
       "  \t\t\t\t\t\t\t\t\t\t\t\t\t\t\n",
       "  \t\t\t\t\t\t\t\t\t\t\t\t\t\t\t\n",
       "  \t\t\t\t\t\t\t\t\t\t\t\t\t\t\t\n",
       "  \t\t\t\t\t\t\t\t\t\t\t\t\t\t\t\t이것은절대1점이아니다11점을주고싶은 내마음이다 \n",
       "  \t\t\t\t\t\t\t\t\t\t\t\t\t\t\t\n",
       "  \t\t\t\t\t\t\t\t\t\t\t\t\t\t\n",
       "  \t\t\t\t\t\t\t\t\t\t\t\t\t\t\n",
       "  \t\t\t\t\t\t\t\t\t\t\t\t\t</span>], [<span id=\"_filtered_ment_2\">\n",
       "  \t\t\t\t\t\t\t\t\t\t\t\t\t\t\n",
       "  \t\t\t\t\t\t\t\t\t\t\t\t\t\t\t\n",
       "  \t\t\t\t\t\t\t\t\t\t\t\t\t\t\t\n",
       "  \t\t\t\t\t\t\t\t\t\t\t\t\t\t\t\t모니터도 울고 외장하드도 울고 숨어있던 바이러스도 울었다 \n",
       "  \t\t\t\t\t\t\t\t\t\t\t\t\t\t\t\n",
       "  \t\t\t\t\t\t\t\t\t\t\t\t\t\t\n",
       "  \t\t\t\t\t\t\t\t\t\t\t\t\t\t\n",
       "  \t\t\t\t\t\t\t\t\t\t\t\t\t</span>], [<span id=\"_filtered_ment_3\">\n",
       "  \t\t\t\t\t\t\t\t\t\t\t\t\t\t\n",
       "  \t\t\t\t\t\t\t\t\t\t\t\t\t\t\t\n",
       "  \t\t\t\t\t\t\t\t\t\t\t\t\t\t\t\n",
       "  \t\t\t\t\t\t\t\t\t\t\t\t\t\t\t\t당신이 이 영화를 보지 않았다면  아직 살아있을 이유 하나를 간직하고 있는 것이다. \n",
       "  \t\t\t\t\t\t\t\t\t\t\t\t\t\t\t\n",
       "  \t\t\t\t\t\t\t\t\t\t\t\t\t\t\n",
       "  \t\t\t\t\t\t\t\t\t\t\t\t\t\t\n",
       "  \t\t\t\t\t\t\t\t\t\t\t\t\t</span>], [<span id=\"_filtered_ment_4\">\n",
       "  \t\t\t\t\t\t\t\t\t\t\t\t\t\t\n",
       "  \t\t\t\t\t\t\t\t\t\t\t\t\t\t\t\n",
       "  \t\t\t\t\t\t\t\t\t\t\t\t\t\t\t\n",
       "  \t\t\t\t\t\t\t\t\t\t\t\t\t\t\t\t영화계엔 BC와 AC가 있다. Before Clementain, After Clementain... \n",
       "  \t\t\t\t\t\t\t\t\t\t\t\t\t\t\t\n",
       "  \t\t\t\t\t\t\t\t\t\t\t\t\t\t\n",
       "  \t\t\t\t\t\t\t\t\t\t\t\t\t\t\n",
       "  \t\t\t\t\t\t\t\t\t\t\t\t\t</span>], [<span id=\"_filtered_ment_5\">\n",
       "  \t\t\t\t\t\t\t\t\t\t\t\t\t\t\n",
       "  \t\t\t\t\t\t\t\t\t\t\t\t\t\t\t\n",
       "  \t\t\t\t\t\t\t\t\t\t\t\t\t\t\t\n",
       "  \t\t\t\t\t\t\t\t\t\t\t\t\t\t\t\t남친 집에서 클레멘타인 DVD를 발견했고, 결혼을 결심했습니다. \n",
       "  \t\t\t\t\t\t\t\t\t\t\t\t\t\t\t\n",
       "  \t\t\t\t\t\t\t\t\t\t\t\t\t\t\n",
       "  \t\t\t\t\t\t\t\t\t\t\t\t\t\t\n",
       "  \t\t\t\t\t\t\t\t\t\t\t\t\t</span>], [<span id=\"_filtered_ment_6\">\n",
       "  \t\t\t\t\t\t\t\t\t\t\t\t\t\t\n",
       "  \t\t\t\t\t\t\t\t\t\t\t\t\t\t\t\n",
       "  \t\t\t\t\t\t\t\t\t\t\t\t\t\t\t\n",
       "  \t\t\t\t\t\t\t\t\t\t\t\t\t\t\t\t드디어 보았네요. 나이 40대 중반에 이런 감동을 느낄 수 있음에 스스로도 대견한 생각이 듭니다. 먼 훗날 제 아이들도 이 영화를 보고 저와 같은 감동을 느끼길 바라는 건 그저 바램이겠지요? \n",
       "  \t\t\t\t\t\t\t\t\t\t\t\t\t\t\t\n",
       "  \t\t\t\t\t\t\t\t\t\t\t\t\t\t\n",
       "  \t\t\t\t\t\t\t\t\t\t\t\t\t\t\n",
       "  \t\t\t\t\t\t\t\t\t\t\t\t\t</span>], [<span id=\"_filtered_ment_7\">\n",
       "  \t\t\t\t\t\t\t\t\t\t\t\t\t\t\n",
       "  \t\t\t\t\t\t\t\t\t\t\t\t\t\t\t\n",
       "  \t\t\t\t\t\t\t\t\t\t\t\t\t\t\t\n",
       "  \t\t\t\t\t\t\t\t\t\t\t\t\t\t\t\t평점깍아내리는 낚시글 몇개있는데 제발그만해라 이기적인새끼들아좋은건 나누는거다 \n",
       "  \t\t\t\t\t\t\t\t\t\t\t\t\t\t\t\n",
       "  \t\t\t\t\t\t\t\t\t\t\t\t\t\t\n",
       "  \t\t\t\t\t\t\t\t\t\t\t\t\t\t\n",
       "  \t\t\t\t\t\t\t\t\t\t\t\t\t</span>], [<span id=\"_filtered_ment_8\">\n",
       "  \t\t\t\t\t\t\t\t\t\t\t\t\t\t\n",
       "  \t\t\t\t\t\t\t\t\t\t\t\t\t\t\t\n",
       "  \t\t\t\t\t\t\t\t\t\t\t\t\t\t\t\n",
       "  \t\t\t\t\t\t\t\t\t\t\t\t\t\t\t\t장난으로 쓰지마라... 본인은 2004년에 실제로 극장에서 이 영화를 봤다 \n",
       "  \t\t\t\t\t\t\t\t\t\t\t\t\t\t\t\n",
       "  \t\t\t\t\t\t\t\t\t\t\t\t\t\t\n",
       "  \t\t\t\t\t\t\t\t\t\t\t\t\t\t\n",
       "  \t\t\t\t\t\t\t\t\t\t\t\t\t</span>], [<span id=\"_filtered_ment_9\">\n",
       "  <span class=\"_unfold_ment\" id=\"_unfold_ment9\">\n",
       "  <a data-src=\"프로포즈 선물로 다이아반지 대신 클레멘타인 파일을 USB에담아 목걸이로 만들어 그녀 목에 걸어주었다. 눈물로 대신 대답한 그녀...그리고 2세이름은 그녀의 의견을 반영해 이동준과 스티븐시갈의 이름을 딴 이동갈로 지을 예정이다. \" href=\"javascript:void(0);\" onclick=\"unfoldPointMent(this);\">\n",
       "  \t\t\t\t\t\t\t\t\t\t\t\t\t\t\t\t\t\t프로포즈 선물로 다이아반지 대신 클레멘타인 파일을 USB에담아 목걸이로 만들어 그녀 목에 걸어주었다. 눈물로 대신 대답한 그녀...그리고 2세이름은 그녀의 의견을 반영해 이동준과 스티븐시갈의 이름을 딴 이동갈로 지을...\n",
       "  \t\t\t\t\t\t\t\t\t\t\t\t\t\t\t\t\t</a>\n",
       "  </span>\n",
       "  </span>], [<span id=\"_filtered_ment_0\">\n",
       "  \t\t\t\t\t\t\t\t\t\t\t\t\t\t\n",
       "  \t\t\t\t\t\t\t\t\t\t\t\t\t\t\t\n",
       "  \t\t\t\t\t\t\t\t\t\t\t\t\t\t\t\n",
       "  \t\t\t\t\t\t\t\t\t\t\t\t\t\t\t\t이 영화를 보고 암이 나았습니다. \n",
       "  \t\t\t\t\t\t\t\t\t\t\t\t\t\t\t\n",
       "  \t\t\t\t\t\t\t\t\t\t\t\t\t\t\n",
       "  \t\t\t\t\t\t\t\t\t\t\t\t\t\t\n",
       "  \t\t\t\t\t\t\t\t\t\t\t\t\t</span>], [<span id=\"_filtered_ment_1\">\n",
       "  \t\t\t\t\t\t\t\t\t\t\t\t\t\t\n",
       "  \t\t\t\t\t\t\t\t\t\t\t\t\t\t\t\n",
       "  \t\t\t\t\t\t\t\t\t\t\t\t\t\t\t\n",
       "  \t\t\t\t\t\t\t\t\t\t\t\t\t\t\t\t이것은절대1점이아니다11점을주고싶은 내마음이다 \n",
       "  \t\t\t\t\t\t\t\t\t\t\t\t\t\t\t\n",
       "  \t\t\t\t\t\t\t\t\t\t\t\t\t\t\n",
       "  \t\t\t\t\t\t\t\t\t\t\t\t\t\t\n",
       "  \t\t\t\t\t\t\t\t\t\t\t\t\t</span>], [<span id=\"_filtered_ment_2\">\n",
       "  \t\t\t\t\t\t\t\t\t\t\t\t\t\t\n",
       "  \t\t\t\t\t\t\t\t\t\t\t\t\t\t\t\n",
       "  \t\t\t\t\t\t\t\t\t\t\t\t\t\t\t\n",
       "  \t\t\t\t\t\t\t\t\t\t\t\t\t\t\t\t모니터도 울고 외장하드도 울고 숨어있던 바이러스도 울었다 \n",
       "  \t\t\t\t\t\t\t\t\t\t\t\t\t\t\t\n",
       "  \t\t\t\t\t\t\t\t\t\t\t\t\t\t\n",
       "  \t\t\t\t\t\t\t\t\t\t\t\t\t\t\n",
       "  \t\t\t\t\t\t\t\t\t\t\t\t\t</span>], [<span id=\"_filtered_ment_3\">\n",
       "  \t\t\t\t\t\t\t\t\t\t\t\t\t\t\n",
       "  \t\t\t\t\t\t\t\t\t\t\t\t\t\t\t\n",
       "  \t\t\t\t\t\t\t\t\t\t\t\t\t\t\t\n",
       "  \t\t\t\t\t\t\t\t\t\t\t\t\t\t\t\t당신이 이 영화를 보지 않았다면  아직 살아있을 이유 하나를 간직하고 있는 것이다. \n",
       "  \t\t\t\t\t\t\t\t\t\t\t\t\t\t\t\n",
       "  \t\t\t\t\t\t\t\t\t\t\t\t\t\t\n",
       "  \t\t\t\t\t\t\t\t\t\t\t\t\t\t\n",
       "  \t\t\t\t\t\t\t\t\t\t\t\t\t</span>], [<span id=\"_filtered_ment_4\">\n",
       "  \t\t\t\t\t\t\t\t\t\t\t\t\t\t\n",
       "  \t\t\t\t\t\t\t\t\t\t\t\t\t\t\t\n",
       "  \t\t\t\t\t\t\t\t\t\t\t\t\t\t\t\n",
       "  \t\t\t\t\t\t\t\t\t\t\t\t\t\t\t\t영화계엔 BC와 AC가 있다. Before Clementain, After Clementain... \n",
       "  \t\t\t\t\t\t\t\t\t\t\t\t\t\t\t\n",
       "  \t\t\t\t\t\t\t\t\t\t\t\t\t\t\n",
       "  \t\t\t\t\t\t\t\t\t\t\t\t\t\t\n",
       "  \t\t\t\t\t\t\t\t\t\t\t\t\t</span>], [<span id=\"_filtered_ment_5\">\n",
       "  \t\t\t\t\t\t\t\t\t\t\t\t\t\t\n",
       "  \t\t\t\t\t\t\t\t\t\t\t\t\t\t\t\n",
       "  \t\t\t\t\t\t\t\t\t\t\t\t\t\t\t\n",
       "  \t\t\t\t\t\t\t\t\t\t\t\t\t\t\t\t남친 집에서 클레멘타인 DVD를 발견했고, 결혼을 결심했습니다. \n",
       "  \t\t\t\t\t\t\t\t\t\t\t\t\t\t\t\n",
       "  \t\t\t\t\t\t\t\t\t\t\t\t\t\t\n",
       "  \t\t\t\t\t\t\t\t\t\t\t\t\t\t\n",
       "  \t\t\t\t\t\t\t\t\t\t\t\t\t</span>], [<span id=\"_filtered_ment_6\">\n",
       "  \t\t\t\t\t\t\t\t\t\t\t\t\t\t\n",
       "  \t\t\t\t\t\t\t\t\t\t\t\t\t\t\t\n",
       "  \t\t\t\t\t\t\t\t\t\t\t\t\t\t\t\n",
       "  \t\t\t\t\t\t\t\t\t\t\t\t\t\t\t\t드디어 보았네요. 나이 40대 중반에 이런 감동을 느낄 수 있음에 스스로도 대견한 생각이 듭니다. 먼 훗날 제 아이들도 이 영화를 보고 저와 같은 감동을 느끼길 바라는 건 그저 바램이겠지요? \n",
       "  \t\t\t\t\t\t\t\t\t\t\t\t\t\t\t\n",
       "  \t\t\t\t\t\t\t\t\t\t\t\t\t\t\n",
       "  \t\t\t\t\t\t\t\t\t\t\t\t\t\t\n",
       "  \t\t\t\t\t\t\t\t\t\t\t\t\t</span>], [<span id=\"_filtered_ment_7\">\n",
       "  \t\t\t\t\t\t\t\t\t\t\t\t\t\t\n",
       "  \t\t\t\t\t\t\t\t\t\t\t\t\t\t\t\n",
       "  \t\t\t\t\t\t\t\t\t\t\t\t\t\t\t\n",
       "  \t\t\t\t\t\t\t\t\t\t\t\t\t\t\t\t평점깍아내리는 낚시글 몇개있는데 제발그만해라 이기적인새끼들아좋은건 나누는거다 \n",
       "  \t\t\t\t\t\t\t\t\t\t\t\t\t\t\t\n",
       "  \t\t\t\t\t\t\t\t\t\t\t\t\t\t\n",
       "  \t\t\t\t\t\t\t\t\t\t\t\t\t\t\n",
       "  \t\t\t\t\t\t\t\t\t\t\t\t\t</span>], [<span id=\"_filtered_ment_8\">\n",
       "  \t\t\t\t\t\t\t\t\t\t\t\t\t\t\n",
       "  \t\t\t\t\t\t\t\t\t\t\t\t\t\t\t\n",
       "  \t\t\t\t\t\t\t\t\t\t\t\t\t\t\t\n",
       "  \t\t\t\t\t\t\t\t\t\t\t\t\t\t\t\t장난으로 쓰지마라... 본인은 2004년에 실제로 극장에서 이 영화를 봤다 \n",
       "  \t\t\t\t\t\t\t\t\t\t\t\t\t\t\t\n",
       "  \t\t\t\t\t\t\t\t\t\t\t\t\t\t\n",
       "  \t\t\t\t\t\t\t\t\t\t\t\t\t\t\n",
       "  \t\t\t\t\t\t\t\t\t\t\t\t\t</span>], [<span id=\"_filtered_ment_9\">\n",
       "  <span class=\"_unfold_ment\" id=\"_unfold_ment9\">\n",
       "  <a data-src=\"프로포즈 선물로 다이아반지 대신 클레멘타인 파일을 USB에담아 목걸이로 만들어 그녀 목에 걸어주었다. 눈물로 대신 대답한 그녀...그리고 2세이름은 그녀의 의견을 반영해 이동준과 스티븐시갈의 이름을 딴 이동갈로 지을 예정이다. \" href=\"javascript:void(0);\" onclick=\"unfoldPointMent(this);\">\n",
       "  \t\t\t\t\t\t\t\t\t\t\t\t\t\t\t\t\t\t프로포즈 선물로 다이아반지 대신 클레멘타인 파일을 USB에담아 목걸이로 만들어 그녀 목에 걸어주었다. 눈물로 대신 대답한 그녀...그리고 2세이름은 그녀의 의견을 반영해 이동준과 스티븐시갈의 이름을 딴 이동갈로 지을...\n",
       "  \t\t\t\t\t\t\t\t\t\t\t\t\t\t\t\t\t</a>\n",
       "  </span>\n",
       "  </span>], [<span id=\"_filtered_ment_0\">\n",
       "  \t\t\t\t\t\t\t\t\t\t\t\t\t\t\n",
       "  \t\t\t\t\t\t\t\t\t\t\t\t\t\t\t\n",
       "  \t\t\t\t\t\t\t\t\t\t\t\t\t\t\t\n",
       "  \t\t\t\t\t\t\t\t\t\t\t\t\t\t\t\t이 영화를 보고 암이 나았습니다. \n",
       "  \t\t\t\t\t\t\t\t\t\t\t\t\t\t\t\n",
       "  \t\t\t\t\t\t\t\t\t\t\t\t\t\t\n",
       "  \t\t\t\t\t\t\t\t\t\t\t\t\t\t\n",
       "  \t\t\t\t\t\t\t\t\t\t\t\t\t</span>], [<span id=\"_filtered_ment_1\">\n",
       "  \t\t\t\t\t\t\t\t\t\t\t\t\t\t\n",
       "  \t\t\t\t\t\t\t\t\t\t\t\t\t\t\t\n",
       "  \t\t\t\t\t\t\t\t\t\t\t\t\t\t\t\n",
       "  \t\t\t\t\t\t\t\t\t\t\t\t\t\t\t\t이것은절대1점이아니다11점을주고싶은 내마음이다 \n",
       "  \t\t\t\t\t\t\t\t\t\t\t\t\t\t\t\n",
       "  \t\t\t\t\t\t\t\t\t\t\t\t\t\t\n",
       "  \t\t\t\t\t\t\t\t\t\t\t\t\t\t\n",
       "  \t\t\t\t\t\t\t\t\t\t\t\t\t</span>], [<span id=\"_filtered_ment_2\">\n",
       "  \t\t\t\t\t\t\t\t\t\t\t\t\t\t\n",
       "  \t\t\t\t\t\t\t\t\t\t\t\t\t\t\t\n",
       "  \t\t\t\t\t\t\t\t\t\t\t\t\t\t\t\n",
       "  \t\t\t\t\t\t\t\t\t\t\t\t\t\t\t\t모니터도 울고 외장하드도 울고 숨어있던 바이러스도 울었다 \n",
       "  \t\t\t\t\t\t\t\t\t\t\t\t\t\t\t\n",
       "  \t\t\t\t\t\t\t\t\t\t\t\t\t\t\n",
       "  \t\t\t\t\t\t\t\t\t\t\t\t\t\t\n",
       "  \t\t\t\t\t\t\t\t\t\t\t\t\t</span>], [<span id=\"_filtered_ment_3\">\n",
       "  \t\t\t\t\t\t\t\t\t\t\t\t\t\t\n",
       "  \t\t\t\t\t\t\t\t\t\t\t\t\t\t\t\n",
       "  \t\t\t\t\t\t\t\t\t\t\t\t\t\t\t\n",
       "  \t\t\t\t\t\t\t\t\t\t\t\t\t\t\t\t당신이 이 영화를 보지 않았다면  아직 살아있을 이유 하나를 간직하고 있는 것이다. \n",
       "  \t\t\t\t\t\t\t\t\t\t\t\t\t\t\t\n",
       "  \t\t\t\t\t\t\t\t\t\t\t\t\t\t\n",
       "  \t\t\t\t\t\t\t\t\t\t\t\t\t\t\n",
       "  \t\t\t\t\t\t\t\t\t\t\t\t\t</span>], [<span id=\"_filtered_ment_4\">\n",
       "  \t\t\t\t\t\t\t\t\t\t\t\t\t\t\n",
       "  \t\t\t\t\t\t\t\t\t\t\t\t\t\t\t\n",
       "  \t\t\t\t\t\t\t\t\t\t\t\t\t\t\t\n",
       "  \t\t\t\t\t\t\t\t\t\t\t\t\t\t\t\t영화계엔 BC와 AC가 있다. Before Clementain, After Clementain... \n",
       "  \t\t\t\t\t\t\t\t\t\t\t\t\t\t\t\n",
       "  \t\t\t\t\t\t\t\t\t\t\t\t\t\t\n",
       "  \t\t\t\t\t\t\t\t\t\t\t\t\t\t\n",
       "  \t\t\t\t\t\t\t\t\t\t\t\t\t</span>], [<span id=\"_filtered_ment_5\">\n",
       "  \t\t\t\t\t\t\t\t\t\t\t\t\t\t\n",
       "  \t\t\t\t\t\t\t\t\t\t\t\t\t\t\t\n",
       "  \t\t\t\t\t\t\t\t\t\t\t\t\t\t\t\n",
       "  \t\t\t\t\t\t\t\t\t\t\t\t\t\t\t\t남친 집에서 클레멘타인 DVD를 발견했고, 결혼을 결심했습니다. \n",
       "  \t\t\t\t\t\t\t\t\t\t\t\t\t\t\t\n",
       "  \t\t\t\t\t\t\t\t\t\t\t\t\t\t\n",
       "  \t\t\t\t\t\t\t\t\t\t\t\t\t\t\n",
       "  \t\t\t\t\t\t\t\t\t\t\t\t\t</span>], [<span id=\"_filtered_ment_6\">\n",
       "  \t\t\t\t\t\t\t\t\t\t\t\t\t\t\n",
       "  \t\t\t\t\t\t\t\t\t\t\t\t\t\t\t\n",
       "  \t\t\t\t\t\t\t\t\t\t\t\t\t\t\t\n",
       "  \t\t\t\t\t\t\t\t\t\t\t\t\t\t\t\t드디어 보았네요. 나이 40대 중반에 이런 감동을 느낄 수 있음에 스스로도 대견한 생각이 듭니다. 먼 훗날 제 아이들도 이 영화를 보고 저와 같은 감동을 느끼길 바라는 건 그저 바램이겠지요? \n",
       "  \t\t\t\t\t\t\t\t\t\t\t\t\t\t\t\n",
       "  \t\t\t\t\t\t\t\t\t\t\t\t\t\t\n",
       "  \t\t\t\t\t\t\t\t\t\t\t\t\t\t\n",
       "  \t\t\t\t\t\t\t\t\t\t\t\t\t</span>], [<span id=\"_filtered_ment_7\">\n",
       "  \t\t\t\t\t\t\t\t\t\t\t\t\t\t\n",
       "  \t\t\t\t\t\t\t\t\t\t\t\t\t\t\t\n",
       "  \t\t\t\t\t\t\t\t\t\t\t\t\t\t\t\n",
       "  \t\t\t\t\t\t\t\t\t\t\t\t\t\t\t\t평점깍아내리는 낚시글 몇개있는데 제발그만해라 이기적인새끼들아좋은건 나누는거다 \n",
       "  \t\t\t\t\t\t\t\t\t\t\t\t\t\t\t\n",
       "  \t\t\t\t\t\t\t\t\t\t\t\t\t\t\n",
       "  \t\t\t\t\t\t\t\t\t\t\t\t\t\t\n",
       "  \t\t\t\t\t\t\t\t\t\t\t\t\t</span>], [<span id=\"_filtered_ment_8\">\n",
       "  \t\t\t\t\t\t\t\t\t\t\t\t\t\t\n",
       "  \t\t\t\t\t\t\t\t\t\t\t\t\t\t\t\n",
       "  \t\t\t\t\t\t\t\t\t\t\t\t\t\t\t\n",
       "  \t\t\t\t\t\t\t\t\t\t\t\t\t\t\t\t장난으로 쓰지마라... 본인은 2004년에 실제로 극장에서 이 영화를 봤다 \n",
       "  \t\t\t\t\t\t\t\t\t\t\t\t\t\t\t\n",
       "  \t\t\t\t\t\t\t\t\t\t\t\t\t\t\n",
       "  \t\t\t\t\t\t\t\t\t\t\t\t\t\t\n",
       "  \t\t\t\t\t\t\t\t\t\t\t\t\t</span>], [<span id=\"_filtered_ment_9\">\n",
       "  <span class=\"_unfold_ment\" id=\"_unfold_ment9\">\n",
       "  <a data-src=\"프로포즈 선물로 다이아반지 대신 클레멘타인 파일을 USB에담아 목걸이로 만들어 그녀 목에 걸어주었다. 눈물로 대신 대답한 그녀...그리고 2세이름은 그녀의 의견을 반영해 이동준과 스티븐시갈의 이름을 딴 이동갈로 지을 예정이다. \" href=\"javascript:void(0);\" onclick=\"unfoldPointMent(this);\">\n",
       "  \t\t\t\t\t\t\t\t\t\t\t\t\t\t\t\t\t\t프로포즈 선물로 다이아반지 대신 클레멘타인 파일을 USB에담아 목걸이로 만들어 그녀 목에 걸어주었다. 눈물로 대신 대답한 그녀...그리고 2세이름은 그녀의 의견을 반영해 이동준과 스티븐시갈의 이름을 딴 이동갈로 지을...\n",
       "  \t\t\t\t\t\t\t\t\t\t\t\t\t\t\t\t\t</a>\n",
       "  </span>\n",
       "  </span>], [<span id=\"_filtered_ment_0\">\n",
       "  \t\t\t\t\t\t\t\t\t\t\t\t\t\t\n",
       "  \t\t\t\t\t\t\t\t\t\t\t\t\t\t\t\n",
       "  \t\t\t\t\t\t\t\t\t\t\t\t\t\t\t\n",
       "  \t\t\t\t\t\t\t\t\t\t\t\t\t\t\t\t이 영화를 보고 암이 나았습니다. \n",
       "  \t\t\t\t\t\t\t\t\t\t\t\t\t\t\t\n",
       "  \t\t\t\t\t\t\t\t\t\t\t\t\t\t\n",
       "  \t\t\t\t\t\t\t\t\t\t\t\t\t\t\n",
       "  \t\t\t\t\t\t\t\t\t\t\t\t\t</span>], [<span id=\"_filtered_ment_1\">\n",
       "  \t\t\t\t\t\t\t\t\t\t\t\t\t\t\n",
       "  \t\t\t\t\t\t\t\t\t\t\t\t\t\t\t\n",
       "  \t\t\t\t\t\t\t\t\t\t\t\t\t\t\t\n",
       "  \t\t\t\t\t\t\t\t\t\t\t\t\t\t\t\t이것은절대1점이아니다11점을주고싶은 내마음이다 \n",
       "  \t\t\t\t\t\t\t\t\t\t\t\t\t\t\t\n",
       "  \t\t\t\t\t\t\t\t\t\t\t\t\t\t\n",
       "  \t\t\t\t\t\t\t\t\t\t\t\t\t\t\n",
       "  \t\t\t\t\t\t\t\t\t\t\t\t\t</span>], [<span id=\"_filtered_ment_2\">\n",
       "  \t\t\t\t\t\t\t\t\t\t\t\t\t\t\n",
       "  \t\t\t\t\t\t\t\t\t\t\t\t\t\t\t\n",
       "  \t\t\t\t\t\t\t\t\t\t\t\t\t\t\t\n",
       "  \t\t\t\t\t\t\t\t\t\t\t\t\t\t\t\t모니터도 울고 외장하드도 울고 숨어있던 바이러스도 울었다 \n",
       "  \t\t\t\t\t\t\t\t\t\t\t\t\t\t\t\n",
       "  \t\t\t\t\t\t\t\t\t\t\t\t\t\t\n",
       "  \t\t\t\t\t\t\t\t\t\t\t\t\t\t\n",
       "  \t\t\t\t\t\t\t\t\t\t\t\t\t</span>], [<span id=\"_filtered_ment_3\">\n",
       "  \t\t\t\t\t\t\t\t\t\t\t\t\t\t\n",
       "  \t\t\t\t\t\t\t\t\t\t\t\t\t\t\t\n",
       "  \t\t\t\t\t\t\t\t\t\t\t\t\t\t\t\n",
       "  \t\t\t\t\t\t\t\t\t\t\t\t\t\t\t\t당신이 이 영화를 보지 않았다면  아직 살아있을 이유 하나를 간직하고 있는 것이다. \n",
       "  \t\t\t\t\t\t\t\t\t\t\t\t\t\t\t\n",
       "  \t\t\t\t\t\t\t\t\t\t\t\t\t\t\n",
       "  \t\t\t\t\t\t\t\t\t\t\t\t\t\t\n",
       "  \t\t\t\t\t\t\t\t\t\t\t\t\t</span>], [<span id=\"_filtered_ment_4\">\n",
       "  \t\t\t\t\t\t\t\t\t\t\t\t\t\t\n",
       "  \t\t\t\t\t\t\t\t\t\t\t\t\t\t\t\n",
       "  \t\t\t\t\t\t\t\t\t\t\t\t\t\t\t\n",
       "  \t\t\t\t\t\t\t\t\t\t\t\t\t\t\t\t영화계엔 BC와 AC가 있다. Before Clementain, After Clementain... \n",
       "  \t\t\t\t\t\t\t\t\t\t\t\t\t\t\t\n",
       "  \t\t\t\t\t\t\t\t\t\t\t\t\t\t\n",
       "  \t\t\t\t\t\t\t\t\t\t\t\t\t\t\n",
       "  \t\t\t\t\t\t\t\t\t\t\t\t\t</span>], [<span id=\"_filtered_ment_5\">\n",
       "  \t\t\t\t\t\t\t\t\t\t\t\t\t\t\n",
       "  \t\t\t\t\t\t\t\t\t\t\t\t\t\t\t\n",
       "  \t\t\t\t\t\t\t\t\t\t\t\t\t\t\t\n",
       "  \t\t\t\t\t\t\t\t\t\t\t\t\t\t\t\t남친 집에서 클레멘타인 DVD를 발견했고, 결혼을 결심했습니다. \n",
       "  \t\t\t\t\t\t\t\t\t\t\t\t\t\t\t\n",
       "  \t\t\t\t\t\t\t\t\t\t\t\t\t\t\n",
       "  \t\t\t\t\t\t\t\t\t\t\t\t\t\t\n",
       "  \t\t\t\t\t\t\t\t\t\t\t\t\t</span>], [<span id=\"_filtered_ment_6\">\n",
       "  \t\t\t\t\t\t\t\t\t\t\t\t\t\t\n",
       "  \t\t\t\t\t\t\t\t\t\t\t\t\t\t\t\n",
       "  \t\t\t\t\t\t\t\t\t\t\t\t\t\t\t\n",
       "  \t\t\t\t\t\t\t\t\t\t\t\t\t\t\t\t드디어 보았네요. 나이 40대 중반에 이런 감동을 느낄 수 있음에 스스로도 대견한 생각이 듭니다. 먼 훗날 제 아이들도 이 영화를 보고 저와 같은 감동을 느끼길 바라는 건 그저 바램이겠지요? \n",
       "  \t\t\t\t\t\t\t\t\t\t\t\t\t\t\t\n",
       "  \t\t\t\t\t\t\t\t\t\t\t\t\t\t\n",
       "  \t\t\t\t\t\t\t\t\t\t\t\t\t\t\n",
       "  \t\t\t\t\t\t\t\t\t\t\t\t\t</span>], [<span id=\"_filtered_ment_7\">\n",
       "  \t\t\t\t\t\t\t\t\t\t\t\t\t\t\n",
       "  \t\t\t\t\t\t\t\t\t\t\t\t\t\t\t\n",
       "  \t\t\t\t\t\t\t\t\t\t\t\t\t\t\t\n",
       "  \t\t\t\t\t\t\t\t\t\t\t\t\t\t\t\t평점깍아내리는 낚시글 몇개있는데 제발그만해라 이기적인새끼들아좋은건 나누는거다 \n",
       "  \t\t\t\t\t\t\t\t\t\t\t\t\t\t\t\n",
       "  \t\t\t\t\t\t\t\t\t\t\t\t\t\t\n",
       "  \t\t\t\t\t\t\t\t\t\t\t\t\t\t\n",
       "  \t\t\t\t\t\t\t\t\t\t\t\t\t</span>], [<span id=\"_filtered_ment_8\">\n",
       "  \t\t\t\t\t\t\t\t\t\t\t\t\t\t\n",
       "  \t\t\t\t\t\t\t\t\t\t\t\t\t\t\t\n",
       "  \t\t\t\t\t\t\t\t\t\t\t\t\t\t\t\n",
       "  \t\t\t\t\t\t\t\t\t\t\t\t\t\t\t\t장난으로 쓰지마라... 본인은 2004년에 실제로 극장에서 이 영화를 봤다 \n",
       "  \t\t\t\t\t\t\t\t\t\t\t\t\t\t\t\n",
       "  \t\t\t\t\t\t\t\t\t\t\t\t\t\t\n",
       "  \t\t\t\t\t\t\t\t\t\t\t\t\t\t\n",
       "  \t\t\t\t\t\t\t\t\t\t\t\t\t</span>], [<span id=\"_filtered_ment_9\">\n",
       "  <span class=\"_unfold_ment\" id=\"_unfold_ment9\">\n",
       "  <a data-src=\"프로포즈 선물로 다이아반지 대신 클레멘타인 파일을 USB에담아 목걸이로 만들어 그녀 목에 걸어주었다. 눈물로 대신 대답한 그녀...그리고 2세이름은 그녀의 의견을 반영해 이동준과 스티븐시갈의 이름을 딴 이동갈로 지을 예정이다. \" href=\"javascript:void(0);\" onclick=\"unfoldPointMent(this);\">\n",
       "  \t\t\t\t\t\t\t\t\t\t\t\t\t\t\t\t\t\t프로포즈 선물로 다이아반지 대신 클레멘타인 파일을 USB에담아 목걸이로 만들어 그녀 목에 걸어주었다. 눈물로 대신 대답한 그녀...그리고 2세이름은 그녀의 의견을 반영해 이동준과 스티븐시갈의 이름을 딴 이동갈로 지을...\n",
       "  \t\t\t\t\t\t\t\t\t\t\t\t\t\t\t\t\t</a>\n",
       "  </span>\n",
       "  </span>], [<span id=\"_filtered_ment_0\">\n",
       "  \t\t\t\t\t\t\t\t\t\t\t\t\t\t\n",
       "  \t\t\t\t\t\t\t\t\t\t\t\t\t\t\t\n",
       "  \t\t\t\t\t\t\t\t\t\t\t\t\t\t\t\n",
       "  \t\t\t\t\t\t\t\t\t\t\t\t\t\t\t\t이 영화를 보고 암이 나았습니다. \n",
       "  \t\t\t\t\t\t\t\t\t\t\t\t\t\t\t\n",
       "  \t\t\t\t\t\t\t\t\t\t\t\t\t\t\n",
       "  \t\t\t\t\t\t\t\t\t\t\t\t\t\t\n",
       "  \t\t\t\t\t\t\t\t\t\t\t\t\t</span>], [<span id=\"_filtered_ment_1\">\n",
       "  \t\t\t\t\t\t\t\t\t\t\t\t\t\t\n",
       "  \t\t\t\t\t\t\t\t\t\t\t\t\t\t\t\n",
       "  \t\t\t\t\t\t\t\t\t\t\t\t\t\t\t\n",
       "  \t\t\t\t\t\t\t\t\t\t\t\t\t\t\t\t이것은절대1점이아니다11점을주고싶은 내마음이다 \n",
       "  \t\t\t\t\t\t\t\t\t\t\t\t\t\t\t\n",
       "  \t\t\t\t\t\t\t\t\t\t\t\t\t\t\n",
       "  \t\t\t\t\t\t\t\t\t\t\t\t\t\t\n",
       "  \t\t\t\t\t\t\t\t\t\t\t\t\t</span>], [<span id=\"_filtered_ment_2\">\n",
       "  \t\t\t\t\t\t\t\t\t\t\t\t\t\t\n",
       "  \t\t\t\t\t\t\t\t\t\t\t\t\t\t\t\n",
       "  \t\t\t\t\t\t\t\t\t\t\t\t\t\t\t\n",
       "  \t\t\t\t\t\t\t\t\t\t\t\t\t\t\t\t모니터도 울고 외장하드도 울고 숨어있던 바이러스도 울었다 \n",
       "  \t\t\t\t\t\t\t\t\t\t\t\t\t\t\t\n",
       "  \t\t\t\t\t\t\t\t\t\t\t\t\t\t\n",
       "  \t\t\t\t\t\t\t\t\t\t\t\t\t\t\n",
       "  \t\t\t\t\t\t\t\t\t\t\t\t\t</span>], [<span id=\"_filtered_ment_3\">\n",
       "  \t\t\t\t\t\t\t\t\t\t\t\t\t\t\n",
       "  \t\t\t\t\t\t\t\t\t\t\t\t\t\t\t\n",
       "  \t\t\t\t\t\t\t\t\t\t\t\t\t\t\t\n",
       "  \t\t\t\t\t\t\t\t\t\t\t\t\t\t\t\t당신이 이 영화를 보지 않았다면  아직 살아있을 이유 하나를 간직하고 있는 것이다. \n",
       "  \t\t\t\t\t\t\t\t\t\t\t\t\t\t\t\n",
       "  \t\t\t\t\t\t\t\t\t\t\t\t\t\t\n",
       "  \t\t\t\t\t\t\t\t\t\t\t\t\t\t\n",
       "  \t\t\t\t\t\t\t\t\t\t\t\t\t</span>], [<span id=\"_filtered_ment_4\">\n",
       "  \t\t\t\t\t\t\t\t\t\t\t\t\t\t\n",
       "  \t\t\t\t\t\t\t\t\t\t\t\t\t\t\t\n",
       "  \t\t\t\t\t\t\t\t\t\t\t\t\t\t\t\n",
       "  \t\t\t\t\t\t\t\t\t\t\t\t\t\t\t\t영화계엔 BC와 AC가 있다. Before Clementain, After Clementain... \n",
       "  \t\t\t\t\t\t\t\t\t\t\t\t\t\t\t\n",
       "  \t\t\t\t\t\t\t\t\t\t\t\t\t\t\n",
       "  \t\t\t\t\t\t\t\t\t\t\t\t\t\t\n",
       "  \t\t\t\t\t\t\t\t\t\t\t\t\t</span>], [<span id=\"_filtered_ment_5\">\n",
       "  \t\t\t\t\t\t\t\t\t\t\t\t\t\t\n",
       "  \t\t\t\t\t\t\t\t\t\t\t\t\t\t\t\n",
       "  \t\t\t\t\t\t\t\t\t\t\t\t\t\t\t\n",
       "  \t\t\t\t\t\t\t\t\t\t\t\t\t\t\t\t남친 집에서 클레멘타인 DVD를 발견했고, 결혼을 결심했습니다. \n",
       "  \t\t\t\t\t\t\t\t\t\t\t\t\t\t\t\n",
       "  \t\t\t\t\t\t\t\t\t\t\t\t\t\t\n",
       "  \t\t\t\t\t\t\t\t\t\t\t\t\t\t\n",
       "  \t\t\t\t\t\t\t\t\t\t\t\t\t</span>], [<span id=\"_filtered_ment_6\">\n",
       "  \t\t\t\t\t\t\t\t\t\t\t\t\t\t\n",
       "  \t\t\t\t\t\t\t\t\t\t\t\t\t\t\t\n",
       "  \t\t\t\t\t\t\t\t\t\t\t\t\t\t\t\n",
       "  \t\t\t\t\t\t\t\t\t\t\t\t\t\t\t\t드디어 보았네요. 나이 40대 중반에 이런 감동을 느낄 수 있음에 스스로도 대견한 생각이 듭니다. 먼 훗날 제 아이들도 이 영화를 보고 저와 같은 감동을 느끼길 바라는 건 그저 바램이겠지요? \n",
       "  \t\t\t\t\t\t\t\t\t\t\t\t\t\t\t\n",
       "  \t\t\t\t\t\t\t\t\t\t\t\t\t\t\n",
       "  \t\t\t\t\t\t\t\t\t\t\t\t\t\t\n",
       "  \t\t\t\t\t\t\t\t\t\t\t\t\t</span>], [<span id=\"_filtered_ment_7\">\n",
       "  \t\t\t\t\t\t\t\t\t\t\t\t\t\t\n",
       "  \t\t\t\t\t\t\t\t\t\t\t\t\t\t\t\n",
       "  \t\t\t\t\t\t\t\t\t\t\t\t\t\t\t\n",
       "  \t\t\t\t\t\t\t\t\t\t\t\t\t\t\t\t평점깍아내리는 낚시글 몇개있는데 제발그만해라 이기적인새끼들아좋은건 나누는거다 \n",
       "  \t\t\t\t\t\t\t\t\t\t\t\t\t\t\t\n",
       "  \t\t\t\t\t\t\t\t\t\t\t\t\t\t\n",
       "  \t\t\t\t\t\t\t\t\t\t\t\t\t\t\n",
       "  \t\t\t\t\t\t\t\t\t\t\t\t\t</span>], [<span id=\"_filtered_ment_8\">\n",
       "  \t\t\t\t\t\t\t\t\t\t\t\t\t\t\n",
       "  \t\t\t\t\t\t\t\t\t\t\t\t\t\t\t\n",
       "  \t\t\t\t\t\t\t\t\t\t\t\t\t\t\t\n",
       "  \t\t\t\t\t\t\t\t\t\t\t\t\t\t\t\t장난으로 쓰지마라... 본인은 2004년에 실제로 극장에서 이 영화를 봤다 \n",
       "  \t\t\t\t\t\t\t\t\t\t\t\t\t\t\t\n",
       "  \t\t\t\t\t\t\t\t\t\t\t\t\t\t\n",
       "  \t\t\t\t\t\t\t\t\t\t\t\t\t\t\n",
       "  \t\t\t\t\t\t\t\t\t\t\t\t\t</span>], [<span id=\"_filtered_ment_9\">\n",
       "  <span class=\"_unfold_ment\" id=\"_unfold_ment9\">\n",
       "  <a data-src=\"프로포즈 선물로 다이아반지 대신 클레멘타인 파일을 USB에담아 목걸이로 만들어 그녀 목에 걸어주었다. 눈물로 대신 대답한 그녀...그리고 2세이름은 그녀의 의견을 반영해 이동준과 스티븐시갈의 이름을 딴 이동갈로 지을 예정이다. \" href=\"javascript:void(0);\" onclick=\"unfoldPointMent(this);\">\n",
       "  \t\t\t\t\t\t\t\t\t\t\t\t\t\t\t\t\t\t프로포즈 선물로 다이아반지 대신 클레멘타인 파일을 USB에담아 목걸이로 만들어 그녀 목에 걸어주었다. 눈물로 대신 대답한 그녀...그리고 2세이름은 그녀의 의견을 반영해 이동준과 스티븐시갈의 이름을 딴 이동갈로 지을...\n",
       "  \t\t\t\t\t\t\t\t\t\t\t\t\t\t\t\t\t</a>\n",
       "  </span>\n",
       "  </span>]]"
      ]
     },
     "execution_count": 177,
     "metadata": {},
     "output_type": "execute_result"
    }
   ],
   "source": [
    "collection"
   ]
  },
  {
   "cell_type": "code",
   "execution_count": 231,
   "metadata": {
    "scrolled": true
   },
   "outputs": [
    {
     "name": "stdout",
     "output_type": "stream",
     "text": [
      "['이 영화를 보고 암이 나았습니다.']\n",
      "['이 영화를 보고 암이 나았습니다.', '이것은절대1점이아니다11점을주고싶은 내마음이다']\n",
      "['이 영화를 보고 암이 나았습니다.', '이것은절대1점이아니다11점을주고싶은 내마음이다', '모니터도 울고 외장하드도 울고 숨어있던 바이러스도 울었다']\n",
      "['이 영화를 보고 암이 나았습니다.', '이것은절대1점이아니다11점을주고싶은 내마음이다', '모니터도 울고 외장하드도 울고 숨어있던 바이러스도 울었다', '당신이 이 영화를 보지 않았다면  아직 살아있을 이유 하나를 간직하고 있는 것이다.']\n",
      "['이 영화를 보고 암이 나았습니다.', '이것은절대1점이아니다11점을주고싶은 내마음이다', '모니터도 울고 외장하드도 울고 숨어있던 바이러스도 울었다', '당신이 이 영화를 보지 않았다면  아직 살아있을 이유 하나를 간직하고 있는 것이다.', '영화계엔 BC와 AC가 있다. Before Clementain, After Clementain...']\n",
      "['이 영화를 보고 암이 나았습니다.', '이것은절대1점이아니다11점을주고싶은 내마음이다', '모니터도 울고 외장하드도 울고 숨어있던 바이러스도 울었다', '당신이 이 영화를 보지 않았다면  아직 살아있을 이유 하나를 간직하고 있는 것이다.', '영화계엔 BC와 AC가 있다. Before Clementain, After Clementain...', '남친 집에서 클레멘타인 DVD를 발견했고, 결혼을 결심했습니다.']\n",
      "['이 영화를 보고 암이 나았습니다.', '이것은절대1점이아니다11점을주고싶은 내마음이다', '모니터도 울고 외장하드도 울고 숨어있던 바이러스도 울었다', '당신이 이 영화를 보지 않았다면  아직 살아있을 이유 하나를 간직하고 있는 것이다.', '영화계엔 BC와 AC가 있다. Before Clementain, After Clementain...', '남친 집에서 클레멘타인 DVD를 발견했고, 결혼을 결심했습니다.', '드디어 보았네요. 나이 40대 중반에 이런 감동을 느낄 수 있음에 스스로도 대견한 생각이 듭니다. 먼 훗날 제 아이들도 이 영화를 보고 저와 같은 감동을 느끼길 바라는 건 그저 바램이겠지요?']\n",
      "['이 영화를 보고 암이 나았습니다.', '이것은절대1점이아니다11점을주고싶은 내마음이다', '모니터도 울고 외장하드도 울고 숨어있던 바이러스도 울었다', '당신이 이 영화를 보지 않았다면  아직 살아있을 이유 하나를 간직하고 있는 것이다.', '영화계엔 BC와 AC가 있다. Before Clementain, After Clementain...', '남친 집에서 클레멘타인 DVD를 발견했고, 결혼을 결심했습니다.', '드디어 보았네요. 나이 40대 중반에 이런 감동을 느낄 수 있음에 스스로도 대견한 생각이 듭니다. 먼 훗날 제 아이들도 이 영화를 보고 저와 같은 감동을 느끼길 바라는 건 그저 바램이겠지요?', '평점깍아내리는 낚시글 몇개있는데 제발그만해라 이기적인새끼들아좋은건 나누는거다']\n",
      "['이 영화를 보고 암이 나았습니다.', '이것은절대1점이아니다11점을주고싶은 내마음이다', '모니터도 울고 외장하드도 울고 숨어있던 바이러스도 울었다', '당신이 이 영화를 보지 않았다면  아직 살아있을 이유 하나를 간직하고 있는 것이다.', '영화계엔 BC와 AC가 있다. Before Clementain, After Clementain...', '남친 집에서 클레멘타인 DVD를 발견했고, 결혼을 결심했습니다.', '드디어 보았네요. 나이 40대 중반에 이런 감동을 느낄 수 있음에 스스로도 대견한 생각이 듭니다. 먼 훗날 제 아이들도 이 영화를 보고 저와 같은 감동을 느끼길 바라는 건 그저 바램이겠지요?', '평점깍아내리는 낚시글 몇개있는데 제발그만해라 이기적인새끼들아좋은건 나누는거다', '장난으로 쓰지마라... 본인은 2004년에 실제로 극장에서 이 영화를 봤다']\n",
      "['이 영화를 보고 암이 나았습니다.', '이것은절대1점이아니다11점을주고싶은 내마음이다', '모니터도 울고 외장하드도 울고 숨어있던 바이러스도 울었다', '당신이 이 영화를 보지 않았다면  아직 살아있을 이유 하나를 간직하고 있는 것이다.', '영화계엔 BC와 AC가 있다. Before Clementain, After Clementain...', '남친 집에서 클레멘타인 DVD를 발견했고, 결혼을 결심했습니다.', '드디어 보았네요. 나이 40대 중반에 이런 감동을 느낄 수 있음에 스스로도 대견한 생각이 듭니다. 먼 훗날 제 아이들도 이 영화를 보고 저와 같은 감동을 느끼길 바라는 건 그저 바램이겠지요?', '평점깍아내리는 낚시글 몇개있는데 제발그만해라 이기적인새끼들아좋은건 나누는거다', '장난으로 쓰지마라... 본인은 2004년에 실제로 극장에서 이 영화를 봤다', '프로포즈 선물로 다이아반지 대신 클레멘타인 파일을 USB에담아 목걸이로 만들어 그녀 목에 걸어주었다. 눈물로 대신 대답한 그녀...그리고 2세이름은 그녀의 의견을 반영해 이동준과 스티븐시갈의 이름을 딴 이동갈로 지을...']\n"
     ]
    }
   ],
   "source": [
    "#_filtered_ment_0\n",
    "new_collection=[]\n",
    "del collection[:]\n",
    "for item in range(0,10):\n",
    "    collection.append(data.select(f'span#_filtered_ment_{item}')[0])\n",
    "    #print(collection[item].text.strip(),item)\n",
    "    new_collection.append(collection[item].text.strip())\n",
    "    "
   ]
  },
  {
   "cell_type": "code",
   "execution_count": 196,
   "metadata": {},
   "outputs": [
    {
     "ename": "AttributeError",
     "evalue": "'list' object has no attribute 'text'",
     "output_type": "error",
     "traceback": [
      "\u001b[1;31m---------------------------------------------------------------------------\u001b[0m",
      "\u001b[1;31mAttributeError\u001b[0m                            Traceback (most recent call last)",
      "\u001b[1;32m<ipython-input-196-9f5ffc8502b2>\u001b[0m in \u001b[0;36m<module>\u001b[1;34m\u001b[0m\n\u001b[1;32m----> 1\u001b[1;33m \u001b[0mcollection\u001b[0m\u001b[1;33m[\u001b[0m\u001b[1;36m0\u001b[0m\u001b[1;33m]\u001b[0m\u001b[1;33m.\u001b[0m\u001b[0mtext\u001b[0m\u001b[1;33m\u001b[0m\u001b[1;33m\u001b[0m\u001b[0m\n\u001b[0m",
      "\u001b[1;31mAttributeError\u001b[0m: 'list' object has no attribute 'text'"
     ]
    }
   ],
   "source": [
    "collection[0]"
   ]
  },
  {
   "cell_type": "code",
   "execution_count": null,
   "metadata": {},
   "outputs": [],
   "source": [
    "#_filtered_ment_0\n",
    "for item in range(0,10):\n",
    "    collection = data.select(f'span#_filtered_ment_{item}')\n",
    "    print(item,\"점\",collection[0].text.strip())\n",
    "    "
   ]
  },
  {
   "cell_type": "code",
   "execution_count": 135,
   "metadata": {},
   "outputs": [
    {
     "ename": "AttributeError",
     "evalue": "'list' object has no attribute 'text'",
     "output_type": "error",
     "traceback": [
      "\u001b[1;31m---------------------------------------------------------------------------\u001b[0m",
      "\u001b[1;31mAttributeError\u001b[0m                            Traceback (most recent call last)",
      "\u001b[1;32m<ipython-input-135-77d7c8321660>\u001b[0m in \u001b[0;36m<module>\u001b[1;34m\u001b[0m\n\u001b[1;32m----> 1\u001b[1;33m \u001b[0mcollection\u001b[0m\u001b[1;33m.\u001b[0m\u001b[0mtext\u001b[0m\u001b[1;33m\u001b[0m\u001b[1;33m\u001b[0m\u001b[0m\n\u001b[0m",
      "\u001b[1;31mAttributeError\u001b[0m: 'list' object has no attribute 'text'"
     ]
    }
   ],
   "source": [
    "collection.text"
   ]
  },
  {
   "cell_type": "code",
   "execution_count": 97,
   "metadata": {},
   "outputs": [
    {
     "data": {
      "text/plain": [
       "'이 영화를 보고 암이 나았습니다.'"
      ]
     },
     "execution_count": 97,
     "metadata": {},
     "output_type": "execute_result"
    }
   ],
   "source": [
    "collection[0].text.strip()"
   ]
  },
  {
   "cell_type": "code",
   "execution_count": 42,
   "metadata": {},
   "outputs": [
    {
     "data": {
      "text/plain": [
       "[<span id=\"_filtered_ment_0\">\n",
       " \t\t\t\t\t\t\t\t\t\t\t\t\t\t\n",
       " \t\t\t\t\t\t\t\t\t\t\t\t\t\t\t\n",
       " \t\t\t\t\t\t\t\t\t\t\t\t\t\t\t\n",
       " \t\t\t\t\t\t\t\t\t\t\t\t\t\t\t\t이 영화를 보고 암이 나았습니다. \n",
       " \t\t\t\t\t\t\t\t\t\t\t\t\t\t\t\n",
       " \t\t\t\t\t\t\t\t\t\t\t\t\t\t\n",
       " \t\t\t\t\t\t\t\t\t\t\t\t\t\t\n",
       " \t\t\t\t\t\t\t\t\t\t\t\t\t</span>]"
      ]
     },
     "execution_count": 42,
     "metadata": {},
     "output_type": "execute_result"
    }
   ],
   "source": []
  },
  {
   "cell_type": "markdown",
   "metadata": {},
   "source": [
    "**6. selector로 선택한 항목에서 텍스트만을 추려봅시다. Hint: .strip()**"
   ]
  },
  {
   "cell_type": "code",
   "execution_count": 98,
   "metadata": {},
   "outputs": [
    {
     "data": {
      "text/plain": [
       "'이 영화를 보고 암이 나았습니다.'"
      ]
     },
     "execution_count": 98,
     "metadata": {},
     "output_type": "execute_result"
    }
   ],
   "source": [
    "# CODE\n",
    "collection[0].text.strip()"
   ]
  },
  {
   "cell_type": "code",
   "execution_count": 43,
   "metadata": {},
   "outputs": [
    {
     "data": {
      "text/plain": [
       "'이 영화를 보고 암이 나았습니다.'"
      ]
     },
     "execution_count": 43,
     "metadata": {},
     "output_type": "execute_result"
    }
   ],
   "source": []
  },
  {
   "cell_type": "markdown",
   "metadata": {},
   "source": [
    "**7. 1페이지의 모든 숫자평점과, 댓글평점을 프린트해 봅시다.**"
   ]
  },
  {
   "cell_type": "code",
   "execution_count": 117,
   "metadata": {},
   "outputs": [],
   "source": [
    "# CODE\n",
    "score = data.select('div.star_score')\n",
    "data.select(f'span#_filtered_ment_{item}')"
   ]
  },
  {
   "cell_type": "code",
   "execution_count": 119,
   "metadata": {},
   "outputs": [
    {
     "data": {
      "text/plain": [
       "'\\n10\\n'"
      ]
     },
     "execution_count": 119,
     "metadata": {},
     "output_type": "execute_result"
    }
   ],
   "source": [
    "score[0].text\n"
   ]
  },
  {
   "cell_type": "code",
   "execution_count": 235,
   "metadata": {},
   "outputs": [
    {
     "name": "stdout",
     "output_type": "stream",
     "text": [
      "10 // 이 영화를 보고 암이 나았습니다.\n",
      "1 // 이것은절대1점이아니다11점을주고싶은 내마음이다\n",
      "10 // 모니터도 울고 외장하드도 울고 숨어있던 바이러스도 울었다\n",
      "10 // 당신이 이 영화를 보지 않았다면  아직 살아있을 이유 하나를 간직하고 있는 것이다.\n",
      "10 // 영화계엔 BC와 AC가 있다. Before Clementain, After Clementain...\n",
      "10 // 남친 집에서 클레멘타인 DVD를 발견했고, 결혼을 결심했습니다.\n",
      "10 // 드디어 보았네요. 나이 40대 중반에 이런 감동을 느낄 수 있음에 스스로도 대견한 생각이 듭니다. 먼 훗날 제 아이들도 이 영화를 보고 저와 같은 감동을 느끼길 바라는 건 그저 바램이겠지요?\n",
      "10 // 평점깍아내리는 낚시글 몇개있는데 제발그만해라 이기적인새끼들아좋은건 나누는거다\n",
      "10 // 장난으로 쓰지마라... 본인은 2004년에 실제로 극장에서 이 영화를 봤다\n",
      "10 // 프로포즈 선물로 다이아반지 대신 클레멘타인 파일을 USB에담아 목걸이로 만들어 그녀 목에 걸어주었다. 눈물로 대신 대답한 그녀...그리고 2세이름은 그녀의 의견을 반영해 이동준과 스티븐시갈의 이름을 딴 이동갈로 지을...\n"
     ]
    }
   ],
   "source": [
    "new_score=[]\n",
    "for item in range(0,10):\n",
    "    print(score[item].text.strip(),\"//\",collection[item].text.strip())\n",
    "    new_score.append(score[item].text.strip())"
   ]
  },
  {
   "cell_type": "code",
   "execution_count": 80,
   "metadata": {},
   "outputs": [
    {
     "name": "stdout",
     "output_type": "stream",
     "text": [
      "10 이 영화를 보고 암이 나았습니다.\n",
      "1 이것은절대1점이아니다11점을주고싶은 내마음이다\n",
      "10 모니터도 울고 외장하드도 울고 숨어있던 바이러스도 울었다\n",
      "10 당신이 이 영화를 보지 않았다면  아직 살아있을 이유 하나를 간직하고 있는 것이다.\n",
      "10 영화계엔 BC와 AC가 있다. Before Clementain, After Clementain...\n",
      "10 남친 집에서 클레멘타인 DVD를 발견했고, 결혼을 결심했습니다.\n",
      "10 드디어 보았네요. 나이 40대 중반에 이런 감동을 느낄 수 있음에 스스로도 대견한 생각이 듭니다. 먼 훗날 제 아이들도 이 영화를 보고 저와 같은 감동을 느끼길 바라는 건 그저 바램이겠지요?\n",
      "10 평점깍아내리는 낚시글 몇개있는데 제발그만해라 이기적인새끼들아좋은건 나누는거다\n",
      "10 장난으로 쓰지마라... 본인은 2004년에 실제로 극장에서 이 영화를 봤다\n",
      "10 프로포즈 선물로 다이아반지 대신 클레멘타인 파일을 USB에담아 목걸이로 만들어 그녀 목에 걸어주었다. 눈물로 대신 대답한 그녀...그리고 2세이름은 그녀의 의견을 반영해 이동준과 스티븐시갈의 이름을 딴 이동갈로 지을...\n"
     ]
    }
   ],
   "source": []
  },
  {
   "cell_type": "markdown",
   "metadata": {},
   "source": [
    "**8. 1페이지의 숫자평점과 댓글평점을 데이터프레임으로 만들어봅시다.**"
   ]
  },
  {
   "cell_type": "code",
   "execution_count": 251,
   "metadata": {},
   "outputs": [],
   "source": [
    "# CODE\n",
    "import pandas as pd\n",
    "from pandas import DataFrame as df\n",
    "# 저장할 데이터프레임과 리스트 생성\n",
    "\n",
    "# 반복문을 사용하여 리스트에 추출정보를 저장\n",
    "\n",
    "# 리스트정보를 데이터프레임에 저장 "
   ]
  },
  {
   "cell_type": "code",
   "execution_count": 252,
   "metadata": {},
   "outputs": [
    {
     "ename": "TypeError",
     "evalue": "'type' object does not support item assignment",
     "output_type": "error",
     "traceback": [
      "\u001b[1;31m---------------------------------------------------------------------------\u001b[0m",
      "\u001b[1;31mTypeError\u001b[0m                                 Traceback (most recent call last)",
      "\u001b[1;32m<ipython-input-252-35961eb76f3e>\u001b[0m in \u001b[0;36m<module>\u001b[1;34m\u001b[0m\n\u001b[1;32m----> 1\u001b[1;33m \u001b[0mdf\u001b[0m\u001b[1;33m[\u001b[0m\u001b[1;34m'star'\u001b[0m\u001b[1;33m]\u001b[0m \u001b[1;33m=\u001b[0m \u001b[0mnew_score\u001b[0m\u001b[1;33m\u001b[0m\u001b[1;33m\u001b[0m\u001b[0m\n\u001b[0m\u001b[0;32m      2\u001b[0m \u001b[0mdf\u001b[0m\u001b[1;33m[\u001b[0m\u001b[1;34m'reply'\u001b[0m\u001b[1;33m]\u001b[0m \u001b[1;33m=\u001b[0m \u001b[0mnew_collection\u001b[0m\u001b[1;33m\u001b[0m\u001b[1;33m\u001b[0m\u001b[0m\n",
      "\u001b[1;31mTypeError\u001b[0m: 'type' object does not support item assignment"
     ]
    }
   ],
   "source": [
    "df['star'] = new_score\n",
    "df['reply'] = new_collection"
   ]
  },
  {
   "cell_type": "code",
   "execution_count": 256,
   "metadata": {},
   "outputs": [
    {
     "data": {
      "text/html": [
       "<div>\n",
       "<style scoped>\n",
       "    .dataframe tbody tr th:only-of-type {\n",
       "        vertical-align: middle;\n",
       "    }\n",
       "\n",
       "    .dataframe tbody tr th {\n",
       "        vertical-align: top;\n",
       "    }\n",
       "\n",
       "    .dataframe thead th {\n",
       "        text-align: right;\n",
       "    }\n",
       "</style>\n",
       "<table border=\"1\" class=\"dataframe\">\n",
       "  <thead>\n",
       "    <tr style=\"text-align: right;\">\n",
       "      <th></th>\n",
       "      <th>star</th>\n",
       "      <th>reply</th>\n",
       "    </tr>\n",
       "  </thead>\n",
       "  <tbody>\n",
       "    <tr>\n",
       "      <th>0</th>\n",
       "      <td>10</td>\n",
       "      <td>이 영화를 보고 암이 나았습니다.</td>\n",
       "    </tr>\n",
       "    <tr>\n",
       "      <th>1</th>\n",
       "      <td>1</td>\n",
       "      <td>이것은절대1점이아니다11점을주고싶은 내마음이다</td>\n",
       "    </tr>\n",
       "    <tr>\n",
       "      <th>2</th>\n",
       "      <td>10</td>\n",
       "      <td>모니터도 울고 외장하드도 울고 숨어있던 바이러스도 울었다</td>\n",
       "    </tr>\n",
       "    <tr>\n",
       "      <th>3</th>\n",
       "      <td>10</td>\n",
       "      <td>당신이 이 영화를 보지 않았다면  아직 살아있을 이유 하나를 간직하고 있는 것이다.</td>\n",
       "    </tr>\n",
       "    <tr>\n",
       "      <th>4</th>\n",
       "      <td>10</td>\n",
       "      <td>영화계엔 BC와 AC가 있다. Before Clementain, After Clem...</td>\n",
       "    </tr>\n",
       "    <tr>\n",
       "      <th>5</th>\n",
       "      <td>10</td>\n",
       "      <td>남친 집에서 클레멘타인 DVD를 발견했고, 결혼을 결심했습니다.</td>\n",
       "    </tr>\n",
       "    <tr>\n",
       "      <th>6</th>\n",
       "      <td>10</td>\n",
       "      <td>드디어 보았네요. 나이 40대 중반에 이런 감동을 느낄 수 있음에 스스로도 대견한 ...</td>\n",
       "    </tr>\n",
       "    <tr>\n",
       "      <th>7</th>\n",
       "      <td>10</td>\n",
       "      <td>평점깍아내리는 낚시글 몇개있는데 제발그만해라 이기적인새끼들아좋은건 나누는거다</td>\n",
       "    </tr>\n",
       "    <tr>\n",
       "      <th>8</th>\n",
       "      <td>10</td>\n",
       "      <td>장난으로 쓰지마라... 본인은 2004년에 실제로 극장에서 이 영화를 봤다</td>\n",
       "    </tr>\n",
       "    <tr>\n",
       "      <th>9</th>\n",
       "      <td>10</td>\n",
       "      <td>프로포즈 선물로 다이아반지 대신 클레멘타인 파일을 USB에담아 목걸이로 만들어 그녀...</td>\n",
       "    </tr>\n",
       "  </tbody>\n",
       "</table>\n",
       "</div>"
      ],
      "text/plain": [
       "  star                                              reply\n",
       "0   10                                 이 영화를 보고 암이 나았습니다.\n",
       "1    1                          이것은절대1점이아니다11점을주고싶은 내마음이다\n",
       "2   10                    모니터도 울고 외장하드도 울고 숨어있던 바이러스도 울었다\n",
       "3   10     당신이 이 영화를 보지 않았다면  아직 살아있을 이유 하나를 간직하고 있는 것이다.\n",
       "4   10  영화계엔 BC와 AC가 있다. Before Clementain, After Clem...\n",
       "5   10                남친 집에서 클레멘타인 DVD를 발견했고, 결혼을 결심했습니다.\n",
       "6   10  드디어 보았네요. 나이 40대 중반에 이런 감동을 느낄 수 있음에 스스로도 대견한 ...\n",
       "7   10         평점깍아내리는 낚시글 몇개있는데 제발그만해라 이기적인새끼들아좋은건 나누는거다\n",
       "8   10          장난으로 쓰지마라... 본인은 2004년에 실제로 극장에서 이 영화를 봤다\n",
       "9   10  프로포즈 선물로 다이아반지 대신 클레멘타인 파일을 USB에담아 목걸이로 만들어 그녀..."
      ]
     },
     "execution_count": 256,
     "metadata": {},
     "output_type": "execute_result"
    }
   ],
   "source": [
    "#for item in range(0,10):\n",
    "col_name=['reply']\n",
    "df_list = pd.DataFrame(columns = ['star','reply'])\n",
    "df_list['star'] = new_score\n",
    "df_list['reply'] = new_collection\n",
    "df_list"
   ]
  },
  {
   "cell_type": "code",
   "execution_count": 85,
   "metadata": {},
   "outputs": [
    {
     "data": {
      "text/html": [
       "<div>\n",
       "<style scoped>\n",
       "    .dataframe tbody tr th:only-of-type {\n",
       "        vertical-align: middle;\n",
       "    }\n",
       "\n",
       "    .dataframe tbody tr th {\n",
       "        vertical-align: top;\n",
       "    }\n",
       "\n",
       "    .dataframe thead th {\n",
       "        text-align: right;\n",
       "    }\n",
       "</style>\n",
       "<table border=\"1\" class=\"dataframe\">\n",
       "  <thead>\n",
       "    <tr style=\"text-align: right;\">\n",
       "      <th></th>\n",
       "      <th>star</th>\n",
       "      <th>reply</th>\n",
       "    </tr>\n",
       "  </thead>\n",
       "  <tbody>\n",
       "    <tr>\n",
       "      <th>0</th>\n",
       "      <td>10</td>\n",
       "      <td>이 영화를 보고 암이 나았습니다.</td>\n",
       "    </tr>\n",
       "    <tr>\n",
       "      <th>1</th>\n",
       "      <td>1</td>\n",
       "      <td>이것은절대1점이아니다11점을주고싶은 내마음이다</td>\n",
       "    </tr>\n",
       "    <tr>\n",
       "      <th>2</th>\n",
       "      <td>10</td>\n",
       "      <td>모니터도 울고 외장하드도 울고 숨어있던 바이러스도 울었다</td>\n",
       "    </tr>\n",
       "    <tr>\n",
       "      <th>3</th>\n",
       "      <td>10</td>\n",
       "      <td>당신이 이 영화를 보지 않았다면  아직 살아있을 이유 하나를 간직하고 있는 것이다.</td>\n",
       "    </tr>\n",
       "    <tr>\n",
       "      <th>4</th>\n",
       "      <td>10</td>\n",
       "      <td>영화계엔 BC와 AC가 있다. Before Clementain, After Clem...</td>\n",
       "    </tr>\n",
       "    <tr>\n",
       "      <th>5</th>\n",
       "      <td>10</td>\n",
       "      <td>남친 집에서 클레멘타인 DVD를 발견했고, 결혼을 결심했습니다.</td>\n",
       "    </tr>\n",
       "    <tr>\n",
       "      <th>6</th>\n",
       "      <td>10</td>\n",
       "      <td>드디어 보았네요. 나이 40대 중반에 이런 감동을 느낄 수 있음에 스스로도 대견한 ...</td>\n",
       "    </tr>\n",
       "    <tr>\n",
       "      <th>7</th>\n",
       "      <td>10</td>\n",
       "      <td>평점깍아내리는 낚시글 몇개있는데 제발그만해라 이기적인새끼들아좋은건 나누는거다</td>\n",
       "    </tr>\n",
       "    <tr>\n",
       "      <th>8</th>\n",
       "      <td>10</td>\n",
       "      <td>장난으로 쓰지마라... 본인은 2004년에 실제로 극장에서 이 영화를 봤다</td>\n",
       "    </tr>\n",
       "    <tr>\n",
       "      <th>9</th>\n",
       "      <td>10</td>\n",
       "      <td>프로포즈 선물로 다이아반지 대신 클레멘타인 파일을 USB에담아 목걸이로 만들어 그녀...</td>\n",
       "    </tr>\n",
       "  </tbody>\n",
       "</table>\n",
       "</div>"
      ],
      "text/plain": [
       "  star                                              reply\n",
       "0   10                                 이 영화를 보고 암이 나았습니다.\n",
       "1    1                          이것은절대1점이아니다11점을주고싶은 내마음이다\n",
       "2   10                    모니터도 울고 외장하드도 울고 숨어있던 바이러스도 울었다\n",
       "3   10     당신이 이 영화를 보지 않았다면  아직 살아있을 이유 하나를 간직하고 있는 것이다.\n",
       "4   10  영화계엔 BC와 AC가 있다. Before Clementain, After Clem...\n",
       "5   10                남친 집에서 클레멘타인 DVD를 발견했고, 결혼을 결심했습니다.\n",
       "6   10  드디어 보았네요. 나이 40대 중반에 이런 감동을 느낄 수 있음에 스스로도 대견한 ...\n",
       "7   10         평점깍아내리는 낚시글 몇개있는데 제발그만해라 이기적인새끼들아좋은건 나누는거다\n",
       "8   10          장난으로 쓰지마라... 본인은 2004년에 실제로 극장에서 이 영화를 봤다\n",
       "9   10  프로포즈 선물로 다이아반지 대신 클레멘타인 파일을 USB에담아 목걸이로 만들어 그녀..."
      ]
     },
     "execution_count": 85,
     "metadata": {},
     "output_type": "execute_result"
    }
   ],
   "source": []
  },
  {
   "cell_type": "markdown",
   "metadata": {},
   "source": [
    "**9. 네이버에서는 기계적으로 접근하는 요청을 잘 차단합니다. 지난시간 차단을 막는 코드를 포함하여 1~10페이지의 평점과 댓글평점을 크롤링하여 데이터프레임으로 저장하세요**"
   ]
  },
  {
   "cell_type": "code",
   "execution_count": null,
   "metadata": {},
   "outputs": [],
   "source": [
    "# CODE\n",
    "#for item in range(0,10):\n",
    "col_name=['reply']\n",
    "df_list = pd.DataFrame(columns = ['star','reply'])\n",
    "df_list['star'] = new_score\n",
    "df_list['reply'] = new_collection\n",
    "df_list\n",
    "\n",
    "# 저장할 데이터프레임과 리스트 생성\n",
    "\n",
    "# 반복문을 사용하여 페이지 URL 생성\n",
    "for i in range(1,11):\n",
    "    url = f'https://movie.naver.com/movie/bi/mi/pointWriteFormList.nhn?code=37886&type=after&isActualPointWriteExecute=false&isMileageSubscriptionAlready=false&isMileageSubscriptionReject=false&page={i}'\n",
    "    response = requests.get(url).text\n",
    "    \n",
    "    \n",
    "\n",
    "# 난수를 생성하여 차단 피하기\n",
    "\n",
    "\n",
    "\n",
    "# requests 요청 전에 실행되도록 위치합니다.\n",
    "    randn = np.random.randint(100)\n",
    "    np.random.seed(randn)\n",
    "    time_sleep = np.random.randint(1, 5)\n",
    "    time.sleep(time_sleep)\n",
    "\n",
    "# url 요청\n",
    "\n",
    "# 데이터 파싱\n",
    "    html = BeautifulSoup(response, 'html.parser')\n",
    "    \n",
    "# 반복문을 사용하여 리스트에 추출정보를 저장\n",
    "    for i in range(10):\n",
    "        new_score.append(new_score.append(score[item].text.strip()))\n",
    "# 리스트정보를 데이터프레임에 저장"
   ]
  },
  {
   "cell_type": "code",
   "execution_count": 88,
   "metadata": {},
   "outputs": [
    {
     "name": "stdout",
     "output_type": "stream",
     "text": [
      "1 페이지 정상처리\n",
      "2 페이지 정상처리\n",
      "3 페이지 정상처리\n",
      "4 페이지 정상처리\n",
      "5 페이지 정상처리\n",
      "6 페이지 정상처리\n",
      "7 페이지 정상처리\n",
      "8 페이지 정상처리\n",
      "9 페이지 정상처리\n",
      "10 페이지 정상처리\n"
     ]
    },
    {
     "data": {
      "text/html": [
       "<div>\n",
       "<style scoped>\n",
       "    .dataframe tbody tr th:only-of-type {\n",
       "        vertical-align: middle;\n",
       "    }\n",
       "\n",
       "    .dataframe tbody tr th {\n",
       "        vertical-align: top;\n",
       "    }\n",
       "\n",
       "    .dataframe thead th {\n",
       "        text-align: right;\n",
       "    }\n",
       "</style>\n",
       "<table border=\"1\" class=\"dataframe\">\n",
       "  <thead>\n",
       "    <tr style=\"text-align: right;\">\n",
       "      <th></th>\n",
       "      <th>star</th>\n",
       "      <th>reply</th>\n",
       "    </tr>\n",
       "  </thead>\n",
       "  <tbody>\n",
       "    <tr>\n",
       "      <th>0</th>\n",
       "      <td>10</td>\n",
       "      <td>이 영화를 보고 암이 나았습니다.</td>\n",
       "    </tr>\n",
       "    <tr>\n",
       "      <th>1</th>\n",
       "      <td>1</td>\n",
       "      <td>이것은절대1점이아니다11점을주고싶은 내마음이다</td>\n",
       "    </tr>\n",
       "    <tr>\n",
       "      <th>2</th>\n",
       "      <td>10</td>\n",
       "      <td>모니터도 울고 외장하드도 울고 숨어있던 바이러스도 울었다</td>\n",
       "    </tr>\n",
       "    <tr>\n",
       "      <th>3</th>\n",
       "      <td>10</td>\n",
       "      <td>당신이 이 영화를 보지 않았다면  아직 살아있을 이유 하나를 간직하고 있는 것이다.</td>\n",
       "    </tr>\n",
       "    <tr>\n",
       "      <th>4</th>\n",
       "      <td>10</td>\n",
       "      <td>영화계엔 BC와 AC가 있다. Before Clementain, After Clem...</td>\n",
       "    </tr>\n",
       "    <tr>\n",
       "      <th>...</th>\n",
       "      <td>...</td>\n",
       "      <td>...</td>\n",
       "    </tr>\n",
       "    <tr>\n",
       "      <th>95</th>\n",
       "      <td>10</td>\n",
       "      <td>도대체 3D 블루레이 버전은 언제나오나요... 기금모금이라도 하고 싶습니다.</td>\n",
       "    </tr>\n",
       "    <tr>\n",
       "      <th>96</th>\n",
       "      <td>10</td>\n",
       "      <td>이영화를 보고나서 아버지 방으로가서 주무시고 계시는 아버지의 얼굴을 물끄러미 쳐다봤...</td>\n",
       "    </tr>\n",
       "    <tr>\n",
       "      <th>97</th>\n",
       "      <td>10</td>\n",
       "      <td>1분이 1초 같아요</td>\n",
       "    </tr>\n",
       "    <tr>\n",
       "      <th>98</th>\n",
       "      <td>10</td>\n",
       "      <td>밑의 분 너무하시네요. 이런 명작을 폄하하시다니, 이 영화를 보신적이 있으시기나 한...</td>\n",
       "    </tr>\n",
       "    <tr>\n",
       "      <th>99</th>\n",
       "      <td>1</td>\n",
       "      <td>이것은 영화에대한 평가가아니다, 애초에 평가를 할수가없다, 이영화를 이제서야본 내자...</td>\n",
       "    </tr>\n",
       "  </tbody>\n",
       "</table>\n",
       "<p>100 rows × 2 columns</p>\n",
       "</div>"
      ],
      "text/plain": [
       "   star                                              reply\n",
       "0    10                                 이 영화를 보고 암이 나았습니다.\n",
       "1     1                          이것은절대1점이아니다11점을주고싶은 내마음이다\n",
       "2    10                    모니터도 울고 외장하드도 울고 숨어있던 바이러스도 울었다\n",
       "3    10     당신이 이 영화를 보지 않았다면  아직 살아있을 이유 하나를 간직하고 있는 것이다.\n",
       "4    10  영화계엔 BC와 AC가 있다. Before Clementain, After Clem...\n",
       "..  ...                                                ...\n",
       "95   10         도대체 3D 블루레이 버전은 언제나오나요... 기금모금이라도 하고 싶습니다.\n",
       "96   10  이영화를 보고나서 아버지 방으로가서 주무시고 계시는 아버지의 얼굴을 물끄러미 쳐다봤...\n",
       "97   10                                         1분이 1초 같아요\n",
       "98   10  밑의 분 너무하시네요. 이런 명작을 폄하하시다니, 이 영화를 보신적이 있으시기나 한...\n",
       "99    1  이것은 영화에대한 평가가아니다, 애초에 평가를 할수가없다, 이영화를 이제서야본 내자...\n",
       "\n",
       "[100 rows x 2 columns]"
      ]
     },
     "execution_count": 88,
     "metadata": {},
     "output_type": "execute_result"
    }
   ],
   "source": []
  },
  {
   "cell_type": "markdown",
   "metadata": {},
   "source": [
    "**10. 우리가 수집한 데이터를 바탕으로 이 영화를 추천할 수 있을까요? 여러분의 생각은 어떠한가요?**"
   ]
  }
 ],
 "metadata": {
  "kernelspec": {
   "display_name": "Python 3",
   "language": "python",
   "name": "python3"
  },
  "language_info": {
   "codemirror_mode": {
    "name": "ipython",
    "version": 3
   },
   "file_extension": ".py",
   "mimetype": "text/x-python",
   "name": "python",
   "nbconvert_exporter": "python",
   "pygments_lexer": "ipython3",
   "version": "3.7.3"
  }
 },
 "nbformat": 4,
 "nbformat_minor": 2
}
